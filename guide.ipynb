{
 "cells": [
  {
   "cell_type": "markdown",
   "metadata": {},
   "source": [
    "# Introduction\n",
    "\n",
    "The ongoing economic crisis in Türkiye has been characterized by high inflation, the depreciation of the Turkish Lira (TRY), rising borrowing costs, and increasing loan defaults. The underlying causes of the crisis can be attributed to several factors, including political instability, global economic pressures, and the implementation of unconventional economic policies. Since 2018, inflation has been a persistent issue, partly due to fluctuations in global oil prices and exchange rates, with Turkey's inflation rate ranking among the highest in emerging markets (Yilmazkuday, 2022). The effectiveness of inflation-targeting policies has been limited by both internal shocks, such as political events and the COVID-19 pandemic, and external factors, such as rising global inflation (Nazlioglu et al., 2024). Furthermore, the Turkish government's policy of maintaining low interest rates to stimulate growth, despite the conventional theory that raising interest rates should reduce inflation, has contributed significantly to the current economic challenges (Kantur & Özcan, 2022). Nevertheless, interest rates have been raised significantly. As of November 2024, the most recent rate hike was in March 2024, when the central bank increased the policy rate by 5 percentage points to 50% as the year-on-year inflation reached 75% (Bloomberg, 2024). Since then, the rate has remained unchanged as the central bank has been committed to fighting high inflation and stabilising the Turkish lira. As of October 2024, year-on-year inflation stands at 48% (Bloomberg, 2024).\n",
    "\n",
    "This study aims to analyze which assets, as well as which portfolio of assets, would have been the most effective in hedging against Turkish inflation."
   ]
  },
  {
   "cell_type": "markdown",
   "metadata": {},
   "source": [
    "# Setup\n",
    "\n",
    "First we have to import the required python libraries."
   ]
  },
  {
   "cell_type": "code",
   "execution_count": 8,
   "metadata": {},
   "outputs": [],
   "source": [
    "# libraries\n",
    "import pandas as pd\n",
    "import sqlite3\n",
    "import matplotlib.pyplot as plt\n",
    "import seaborn as sns\n",
    "import numpy as np\n",
    "\n",
    "# project"
   ]
  },
  {
   "cell_type": "markdown",
   "metadata": {},
   "source": [
    "# Data - Import and Processing\n",
    "\n",
    "The raw data for each asset is a separate excel input file. The data is loaded, processed, returns calculated, and then stored in a sqlite database. The data used in this analysis was based on monthly data in the timespan from January 2018 to September 2024.\n",
    "\n",
    "The following data was sourced from Bloomberg:\n",
    "- TUCXEFYY Index: This index tracks the Turkish CPI (Consumer Price Index) excluding categories such as food, energy, alcohol, and tobacco. This represents the core inflation rate and excludes the most volatile components of the CPI, given that the aforementioned categories are often subject to short-term price fluctuations due to external factors. In the context of hedging against inflation, it is more meaningful to focus on core inflation, as short-term fluctuations in volatile categories can distort the true underlying inflation rate. Therefore, this index serves as the benchmark and allows for direct comparison of the other assets against inflation. \n",
    "\n",
    "- XU100 Index (BIST 100): This index comprises the 100 largest companies traded at the Borsa Istanbul and provides insight into the response of Turkish stocks to inflation.\n",
    "\n",
    "- GTTRY10YR (10-Year Turkish Government Bond):  Long-term government bonds, such as the 10-year Turkish government bond, are traditionally considered low-risk investments. Including this bond in the analysis allows for an assessment of the inflation risk premium embedded in Turkish government debt.\n",
    "\n",
    "- XAU: This index represents the price of one ounce of gold quoted in US Dollars (USD).  Gold is often seen as a traditional hedge against inflation due to its historical retention of value. Analyzing gold prices in USD allows for an assessment of gold’s ability to preserve purchasing power during periods of high inflation in Türkiye, while avoiding the potential distortions caused by exchange rate volatility.\n",
    "\n",
    "- XBT BGN: Bitcoin is included in the analysis as an alternative inflation hedge, with prices analyzed in USD. Analyzing Bitcoin in USD focuses on its performance as a global inflation hedge, independent of potential distortions caused by exchange rate volatility. This approach provides insights into Bitcoin’s ability to preserve purchasing power and its relevance in the context of Turkish inflation.\n",
    "\n",
    "Furthermore, the house price index data was obtained from the Turkish Central Bank’s EVDS database. Specifically, the TP KFE TR-1 series was used, which tracks nationwide residential property prices in Türkiye. Real estate is often considered a strong inflation hedge, as property values and rental income tend to rise with inflation. This index allows an analysis of the effectiveness of the real estate sector in preserving purchasing power during inflationary periods."
   ]
  },
  {
   "cell_type": "markdown",
   "metadata": {},
   "source": [
    "The detailed data processing can seeing in this notebook: \"notebooks/DATABASE AND PREPROCESS FOR DATA.ipynb\""
   ]
  },
  {
   "cell_type": "code",
   "execution_count": 7,
   "metadata": {},
   "outputs": [],
   "source": [
    "# data code"
   ]
  },
  {
   "cell_type": "markdown",
   "metadata": {},
   "source": [
    "# Methodology\n",
    "This study examines the effectiveness of various assets as hedges against Turkish inflation, using monthly data from January 2018 to September 2024. The monthly frequency was selected for the following reasons:\n",
    "\n",
    "1. The use of monthly data allows for the smoothing of short-term fluctuations. This facilitates the identification of more coherent relationships between inflation and asset returns. \n",
    "2. Key economic indicators, including inflation rates, are typically reported on a monthly basis. By aligning asset data with this frequency, the analysis maintains consistency and relevance in relation to reported inflation rates.\n",
    "3. The influence of short-term trading anomalies, seasonal effects and temporary market shocks on weekly data must be acknowledged. Monthly data minimizes the impact of these irregularities, thereby providing a more stable basis for the analysis of assets as potential inflation hedges.\n"
   ]
  },
  {
   "cell_type": "markdown",
   "metadata": {},
   "source": [
    "# Analysis"
   ]
  },
  {
   "cell_type": "markdown",
   "metadata": {},
   "source": [
    "## Exploratory Data Analysis\n",
    "\n",
    "Let's take a quick look at the data."
   ]
  },
  {
   "cell_type": "code",
   "execution_count": 10,
   "metadata": {},
   "outputs": [],
   "source": [
    "# data returns"
   ]
  },
  {
   "cell_type": "markdown",
   "metadata": {},
   "source": [
    "## Markowitz Optimized Portfolio\n",
    "\n",
    "More details on how the markowitz optimization is done can be found in the Markowitz.ipynb notebook."
   ]
  },
  {
   "cell_type": "code",
   "execution_count": 11,
   "metadata": {},
   "outputs": [],
   "source": [
    "# markowitz"
   ]
  },
  {
   "cell_type": "markdown",
   "metadata": {},
   "source": [
    "## Asset Comparison"
   ]
  },
  {
   "cell_type": "code",
   "execution_count": 12,
   "metadata": {},
   "outputs": [],
   "source": [
    "# comparison"
   ]
  },
  {
   "cell_type": "markdown",
   "metadata": {},
   "source": [
    "# Results"
   ]
  },
  {
   "cell_type": "code",
   "execution_count": 13,
   "metadata": {},
   "outputs": [],
   "source": [
    "# visualizations"
   ]
  }
 ],
 "metadata": {
  "kernelspec": {
   "display_name": "Python 3",
   "language": "python",
   "name": "python3"
  },
  "language_info": {
   "codemirror_mode": {
    "name": "ipython",
    "version": 3
   },
   "file_extension": ".py",
   "mimetype": "text/x-python",
   "name": "python",
   "nbconvert_exporter": "python",
   "pygments_lexer": "ipython3",
   "version": "3.12.2"
  }
 },
 "nbformat": 4,
 "nbformat_minor": 4
}
