{
 "cells": [
  {
   "cell_type": "markdown",
   "metadata": {},
   "source": [
    "# Hedging Against Turkish Inflation\n",
    "\n",
    "Selin Acar, Necati Furkan Çolak, Denis Lasser"
   ]
  },
  {
   "cell_type": "markdown",
   "metadata": {},
   "source": [
    "# Introduction\n",
    "\n",
    "The ongoing economic crisis in Türkiye has been characterized by high\n",
    "inflation, the depreciation of the Turkish Lira (TRY), rising borrowing\n",
    "costs, and increasing loan defaults. The underlying causes of the crisis\n",
    "can be attributed to several factors, including political instability,\n",
    "global economic pressures, and the implementation of unconventional\n",
    "economic policies. Since 2018, inflation has been a persistent issue,\n",
    "partly due to fluctuations in global oil prices and exchange rates, with\n",
    "Turkey's inflation rate ranking among the highest in emerging markets. The effectiveness of inflation-targeting policies\n",
    "has been limited by both internal shocks, such as political events and\n",
    "the COVID-19 pandemic, and external factors, such as rising global\n",
    "inflation. Furthermore, the Turkish\n",
    "government's policy of maintaining low interest rates to stimulate\n",
    "growth, despite the conventional theory that raising interest rates\n",
    "should reduce inflation, has contributed significantly to the current\n",
    "economic challenges. Nevertheless, interest\n",
    "rates have been raised significantly. As of November 2024, the most\n",
    "recent rate hike was in March 2024, when the central bank increased the\n",
    "policy rate by 5 percentage points to 50\\% as the year-on-year inflation\n",
    "reached 75\\%. Since then, the rate has remained\n",
    "unchanged as the central bank has been committed to fighting high\n",
    "inflation and stabilising the Turkish lira. As of October 2024,\n",
    "year-on-year inflation stands at 48\\%. This study aims\n",
    "to analyze which assets, as well as which portfolio of assets, would\n",
    "have been the most effective in hedging against Turkish inflation."
   ]
  },
  {
   "cell_type": "markdown",
   "metadata": {},
   "source": [
    "# Setup"
   ]
  },
  {
   "cell_type": "code",
   "execution_count": null,
   "metadata": {},
   "outputs": [],
   "source": [
    "import pandas as pd"
   ]
  },
  {
   "cell_type": "markdown",
   "metadata": {},
   "source": [
    "# Methodology"
   ]
  },
  {
   "cell_type": "markdown",
   "metadata": {},
   "source": [
    "This study examines the effectiveness of various assets as hedges against Turkish inflation, using monthly data from January 2018 to September 2024. The monthly frequency was selected for the following\n",
    "reasons:\n",
    "\n",
    "1. The use of monthly data allows for the smoothing of short-term fluctuations. This facilitates the identification of more coherent relationships between inflation and asset returns.\n",
    "2. Key economic indicators, including inflation rates, are typically reported on a monthly basis. By aligning asset data with this frequency, the analysis maintains consistency and relevance in relation to reported inflation rates.\n",
    "3. The influence of short-term trading anomalies, seasonal effects and temporary market shocks on weekly data must be acknowledged. Monthly data minimizes the impact of these irregularities, thereby providing a more stable basis for the analysis of assets as potential inflation hedges."
   ]
  },
  {
   "cell_type": "markdown",
   "metadata": {},
   "source": [
    "## Data\n",
    "\n",
    "This study includes a range of assets to capture different potential\n",
    "hedging mechanisms against inflation.\n",
    "\n",
    "Following indices were sourced from Bloomberg:\n",
    "\n",
    "1. **TUCXEFYY Index**: This index tracks the Turkish CPI (Consumer\n",
    "  Price Index) excluding categories such as food, energy, alcohol, and\n",
    "  tobacco. This represents the core inflation rate and excludes the most\n",
    "  volatile components of the CPI, given that the aforementioned\n",
    "  categories are often subject to short-term price fluctuations due to\n",
    "  external factors. In the context of hedging against inflation, it is\n",
    "  more meaningful to focus on core inflation, as short-term fluctuations\n",
    "  in volatile categories can distort the true underlying inflation rate.\n",
    "  Therefore, this index serves as the benchmark and allows for direct\n",
    "  comparison of the other assets against inflation.\n",
    "2. **XU100 Index** (BIST 100): This index comprises the 100 largest\n",
    "  companies traded at the Borsa Istanbul and provides insight into the\n",
    "  response of Turkish stocks to inflation.\n",
    "3. **GTTRY10YR** (10-Year Turkish Government Bond): Long-term\n",
    "  government bonds, such as the 10-year Turkish government bond, are\n",
    "  traditionally considered low-risk investments. Including this bond in\n",
    "  the analysis allows for an assessment of the inflation risk premium\n",
    "  embedded in Turkish government debt.\n",
    "4. **XAU**: This index represents the price of one ounce of gold\n",
    "  quoted in US Dollars (USD). Gold is often seen as a traditional hedge\n",
    "  against inflation due to its historical retention of value. Analyzing\n",
    "  gold prices in USD allows for an assessment of gold's ability to\n",
    "  preserve purchasing power during periods of high inflation in Türkiye,\n",
    "  while avoiding the potential distortions caused by exchange rate\n",
    "  volatility.\n",
    "4. **XBT BGN**: Bitcoin is included in the analysis as an\n",
    "  alternative inflation hedge, with prices analyzed in USD. Analyzing\n",
    "  Bitcoin in USD focuses on its performance as a global inflation hedge,\n",
    "  independent of potential distortions caused by exchange rate\n",
    "  volatility. This approach provides insights into Bitcoin's ability to\n",
    "  preserve purchasing power and its relevance in the context of Turkish\n",
    "  inflation.\n",
    "\n",
    "Furthermore, the house price index data was obtained from the [Turkish\n",
    "Central Bank's EVDS database](https://evds2.tcmb.gov.tr/index.php?/evds/portlet/KSAktmjeowo\\%3D/en)\n",
    "Specifically, the **TP KFE TR-1** series was used, which tracks\n",
    "nationwide residential property price change in Türkiye. Real estate is\n",
    "often considered a strong inflation hedge, as property values and rental\n",
    "income tend to rise with inflation. This index allows an analysis of the\n",
    "effectiveness of the real estate sector in preserving purchasing power\n",
    "during inflationary periods."
   ]
  },
  {
   "cell_type": "markdown",
   "metadata": {},
   "source": [
    "### Sample Data\n",
    "\n",
    "**Note about using your own data:** To use your own input data, please match the format of the raw data samples provided in the `data/sample data` directory. Once you've ensured that, you can simply copy your data into the data/raw directory and proceed with the guide without issues.\n",
    "\n",
    "The detailed data processing can be seen in this notebook: [DATABASE AND PREPROCESS FOR DATA.ipynb](https://github.com/denis-lasser/hedging-against-turkish-inflation/blob/main/notebooks/DATABASE%20AND%20PREPROCESS%20FOR%20DATA.ipynb)\n"
   ]
  },
  {
   "cell_type": "markdown",
   "metadata": {},
   "source": [
    "Samples for the data format can be found in the `data/sample data` directory. The raw data should have the following format (please note that the samples are fictional):"
   ]
  },
  {
   "cell_type": "code",
   "execution_count": null,
   "metadata": {},
   "outputs": [],
   "source": [
    "# for stock exchange data\n",
    "df_stocks = pd.read_excel(\"data/sample data/borsa_ist.xlsx\")\n",
    "df_stocks"
   ]
  },
  {
   "cell_type": "code",
   "execution_count": null,
   "metadata": {},
   "outputs": [],
   "source": [
    "# for bitcoin\n",
    "df_btc = pd.read_excel(\"data/sample data/btc.xlsx\")\n",
    "df_btc"
   ]
  },
  {
   "cell_type": "code",
   "execution_count": null,
   "metadata": {},
   "outputs": [],
   "source": [
    "# for gold\n",
    "df_gold = pd.read_excel(\"data/sample data/gold_prices.xlsx\")\n",
    "df_gold"
   ]
  },
  {
   "cell_type": "code",
   "execution_count": null,
   "metadata": {},
   "outputs": [],
   "source": [
    "# for government bonds\n",
    "df_bonds = pd.read_excel(\"data/sample data/gov_bonds.xlsx\")\n",
    "df_bonds"
   ]
  },
  {
   "cell_type": "code",
   "execution_count": null,
   "metadata": {},
   "outputs": [],
   "source": [
    "# for house price index\n",
    "df_hpi = pd.read_excel(\"data/sample data/hpi.xlsx\")\n",
    "df_hpi"
   ]
  },
  {
   "cell_type": "code",
   "execution_count": null,
   "metadata": {},
   "outputs": [],
   "source": [
    "# for inflation\n",
    "df_inf = pd.read_excel(\"data/sample data/Turkish Inflation 2018-2024.xlsx\")\n",
    "df_inf"
   ]
  },
  {
   "cell_type": "markdown",
   "metadata": {},
   "source": [
    "### Data Processing\n",
    "\n",
    "Once the raw data is obtained and placed in the 'data/raw' directory, we can import and process the data. The data is first imported and cleaned. Then the real returns of the assets are calculated according to the formula described below in the subchapter **Real Returns**. Finally, all the data is gathered into one table and safed in a SQLite database for easy access.\n",
    "\n",
    "For more detailed information on the data processing, see the following notebook: [DATABASE AND PREPROCESS FOR DATA.ipynb](https://github.com/denis-lasser/hedging-against-turkish-inflation/blob/main/notebooks/DATABASE%20AND%20PREPROCESS%20FOR%20DATA.ipynb)\n"
   ]
  },
  {
   "cell_type": "markdown",
   "metadata": {},
   "source": [
    "## Analysis Techniques\n",
    "\n",
    "The analysis consists of two main steps. First, the effectiveness of\n",
    "each individual asset in providing a hedge is evaluated. Subsequently,\n",
    "an optimal hedging portfolio is determined."
   ]
  },
  {
   "cell_type": "markdown",
   "metadata": {},
   "source": [
    "### Real Returns\n",
    "\n",
    "The first step is to calculate the **real return** for each asset relative to the Turkish inflation rate. This ensures a consistent measure of an asset's effectiveness in preserving purchasing power in Türkiye's inflationary environment.\n",
    "\n",
    "$$\n",
    "    \\text{Real Return} = \\frac{1 + \\text{Nominal Return}} {1 + \\text{Inflation Rate}} - 1\n",
    "$$\n",
    "\n",
    "This formula adjusts the nominal return of each asset to account for the impact of Turkish inflation. By expressing returns in real terms, it provides a clearer picture of an asset's ability to act as an inflation hedge, irrespective of whether it is denominated in TRY or USD.\n",
    "\n",
    "This first step evaluates each asset's ability to preserve purchasing\n",
    "power. Assets with consistently positive excess returns are considered\n",
    "to have stronger hedging characteristics, as they maintain or increase\n",
    "purchasing power above inflation. This initial analysis provides a basis\n",
    "for assessing each asset's stand-alone ability to serve as an inflation\n",
    "hedge."
   ]
  },
  {
   "cell_type": "markdown",
   "metadata": {},
   "source": [
    "Here is a quick overview of the real returns calculated:"
   ]
  },
  {
   "cell_type": "code",
   "execution_count": null,
   "metadata": {},
   "outputs": [],
   "source": [
    "df_master = pd.read_csv(\"data/processed/master_table.csv\")\n",
    "\n",
    "columns = [\"Date\", 'real_return_bitcoin', 'real_return_gold', 'real_return_stockex', 'real_return_bond', 'real_return_hpi']\n",
    "\n",
    "df_master[columns].iloc[1:11]"
   ]
  },
  {
   "cell_type": "markdown",
   "metadata": {},
   "source": [
    "### Markowitz Portfolio Optimization\n",
    "\n",
    "Building on the individual asset analysis, the next step applies\n",
    "**Markowitz portfolio optimization** to construct an optimal\n",
    "portfolio that maximizes the hedging effectiveness against Turkish\n",
    "inflation. Markowitz optimization, also referred to as\n",
    "**Mean-Variance Optimization**, determines the portfolio\n",
    "composition that achieves the highest return for a given level of risk /\n",
    "the lowest risk for a given return. In the context of this study, the\n",
    "aim is to construct a portfolio that minimizes inflation risk while\n",
    "providing stable excess returns. By balancing a range of assets,this\n",
    "optimization creates a portfolio that preserves purchasing power against\n",
    "inflation more effectively than any individual asset alone.\n",
    "\n",
    "The process involves the following calculations:\n",
    "\n",
    "1. **Portfolio Return**\n",
    "  $$\n",
    "  \\text{Portfolio Return} = R_p = \\sum_{i=1}^{n} w_i R_i\n",
    "  $$\n",
    "\n",
    "where:\n",
    "\n",
    "- $R_p$: Portfolio return\n",
    "- $w_i$: Weight of asset $i$ in the portfolio\n",
    "- $R_i$: Return of asset $i$\n",
    "- $n$: Number of assets in the portfolio\n",
    "\n",
    "\n",
    "2. **Portfolio Variance**\n",
    "  $$\\text{Portfolio Variance} = \\sigma_p^2 = \\sum_{i=1}^{n} \\sum_{j=1}^{n} w_i w_j \\sigma_{ij}$$\n",
    "\n",
    "where:\n",
    "\n",
    "- $\\sigma_p^2$: Portfolio variance (measure of risk)\n",
    "- $w_i, w_j$: Weights of assets $i$ and $j$ in the portfolio\n",
    "- $\\sigma_{ij}$: Covariance between the returns of assets $i$ and $j$\n",
    "- $\\sigma_{ii}$ or $\\sigma_i^2$: Variance of asset $i$ (case when $i = j$)\n",
    "\n",
    "\n",
    "3. **Minimizing Portfolio Risk**\n",
    "  $$\n",
    "  \\min_{w} \\, \\sigma_p^2 \\quad \\text{subject to:} \\quad \\sum_{i=1}^{n} w_i R_i = R_{\\text{target}}, \\quad \\sum_{i=1}^{n} w_i = 1, \\quad w_i \\geq 0\n",
    "  $$\n",
    "\n",
    "where:\n",
    "\n",
    "- $\\min_{w} \\, \\sigma_p^2$: The objective is to minimize the portfolio\n",
    "  variance\n",
    "- $\\sum_{i=1}^{n} w_i R_i = R_{\\text{target}}$: The portfolio must\n",
    "  achieve a specified target return ($R_{\\text{target}}$)\n",
    "- $\\sum_{i=1}^{n} w_i = 1$: The sum of portfolio weights must equal 1,\n",
    "  this ensures that the portfolio is fully invested\n",
    "- $w_i \\geq 0$: Weights must be non-negative, assuming no short-selling\n",
    "\n",
    "Solving the optimization problem generates the efficient frontier, which\n",
    "represents the set of optimal portfolios that offer the highest return\n",
    "for a given level of risk. The efficient frontier is derived by varying\n",
    "$R_{\\text{target}}$ and solving the optimization problem for each\n",
    "level of return."
   ]
  },
  {
   "cell_type": "markdown",
   "metadata": {},
   "source": [
    "For more details on the code for the Markowitz optimization, please refer to this notebook: [Markowitz.ipynb](https://github.com/denis-lasser/hedging-against-turkish-inflation/blob/main/notebooks/Markowitz.ipynb)"
   ]
  },
  {
   "cell_type": "markdown",
   "metadata": {},
   "source": [
    "# Results"
   ]
  },
  {
   "cell_type": "markdown",
   "metadata": {},
   "source": [
    "For analyizing the results of the analysis, we'll refer to visuals created by the [Visuals.ipynb](https://github.com/denis-lasser/hedging-against-turkish-inflation/blob/main/notebooks/Visuals.ipynb) notebook."
   ]
  },
  {
   "cell_type": "markdown",
   "metadata": {},
   "source": [
    "## Real Return of Individual Assets"
   ]
  },
  {
   "cell_type": "markdown",
   "metadata": {},
   "source": [
    "### Turkish Stocks\n",
    "\n",
    "![](reports/figures/real_stock_returns.png)\n",
    "\n",
    "Turkish stocks are highly volatile, with several sharp peaks and periods of low or negative returns. For instance, there are noticeable spikes in returns, especially around mid/late 2020 and mid-2022. Therefore, Turkish equities appear to offer opportunities for inflation hedging during certain periods, but are inconsistent as a hedge. While they may reflect market optimism during inflationary periods, they still carry significant risks, as shown by the high volatility.\n",
    "\n",
    "### Turkish Government Bond\n",
    "\n",
    "![](reports/figures/real_bond_returns.png)\n",
    "\n",
    "10 year Turkish government bonds show prolonged periods of negative real returns, especially as inflation rises. Recent improvements in real returns may reflect monetary tightening, but the overall trend suggests that they struggle to keep up with inflation. Therefore, Turkish bonds are not a good hedge against inflation due to their sensitivity to high inflation and credit risk.\n",
    "\n",
    "### Gold\n",
    "\n",
    "![](reports/figures/real_gold_returns.png)\n",
    "\n",
    "Gold has traditionally been seen as an inflation hedge. Despite some negative returns, gold maintains a conistent performance compared to other assets. This makes gold is a modest hedge against Turkish inflation, as it tends to hold its value during inflationary spikes. \n",
    "\n",
    "### Bitcoin\n",
    "\n",
    "![](reports/figures/real_bitcoin_returns.png)\n",
    "\n",
    "Bitcoin's real returns are highly volatile. It occasionally generates high positive real returns but also shows frequent periods of near-zero or negative returns. Therefore, it is not a consistent hedge against Turkish inflation due to its high volatility. While it offers occasional large positive returns, it also carries significant downside risk. This makes it speculative rather than a stable store of value in the context of inflation hedging.\n",
    "\n",
    "### Turkish Real Estate\n",
    "\n",
    "![](reports/figures/real_hpi_returns.png)\n",
    "\n",
    "Real returns on Turkish real estate show occasional spikes, but generally remain close to zero, with also a few periods of slightly negative returns. The peak in real returns occurred in late 2021, likely driven by a spike in inflation, with real estate acting as a safe haven. Consequently, real estate appears to be a viable hedge against inflation during periods of high inflation in Türkiye. The sharp increase in real returns suggests strong investor demand for real assets to preserve wealth amid economic uncertainty.\n"
   ]
  },
  {
   "cell_type": "markdown",
   "metadata": {},
   "source": [
    "### Comparison\n",
    "\n",
    "Comparing the assets, one can conclude for the period from January 2018 to September 2024: \n",
    "\n",
    "- **Least Effective Hedges:**\n",
    "    - **Turkish Bonds:** Struggle to generate positive real returns under high inflation.\n",
    "    - **Bitcoin:** High volatility reduces reliability as a consistent inflation hedge.\n",
    "\n",
    "    \n",
    "- **Balanced Hedge:**\n",
    "    - **Stocks:** Provide a mix of potential growth and inflation protection but require careful risk management due to volatility.\n",
    "\n",
    "    \n",
    "- **Best Inflation Hedges:**\n",
    "    - **Gold:** Offers steady value preservation, especially during high inflation periods.\n",
    "    - **House Price Index:** Reasonable alignment with inflation but lacks significant outperformance.\n"
   ]
  },
  {
   "cell_type": "markdown",
   "metadata": {},
   "source": [
    "## Markowitz Portfolio Optimization"
   ]
  },
  {
   "cell_type": "markdown",
   "metadata": {},
   "source": [
    "The Markowitz portfolio optimization uses the real returns of each asset to balance risk and return. Using the aforementioned formula, the optimal portfolio allocation is:\n",
    "\n",
    "  - **Turkish Stocks:** 12.71\\%\n",
    "  - **Turkish Government Bond:** 0.00\\%\n",
    "  - **Gold:** 0.00\\%\n",
    "  - **Bitcoin:** 0.92\\%\n",
    "  - **Turkish Real Estate:** 86.37\\%\n",
    "\n",
    "Resulting in:\n",
    "  - **Expected Portfolio Return:** 35.12\\%\n",
    "  - **Expected Portfolio Volatility:** 60.56\\%\n",
    "\n",
    "This portfolio allocation demonstrates the dominance of Turkish Real Estate (HPI) as the primary asset in hedging against inflation, given its historically high real returns and relatively lower risk compared to other assets. The minimal allocations to Turkish Stocks (12.71\\%) and Bitcoin (0.92\\%) suggest that while these assets contribute to potential returns, their volatility limits their inclusion. Despite the high allocation to real estate, diversification through small allocations to stocks and Bitcoin reduces some risk. The absence of Gold and Turkish Government Bonds indicates that these assets did not provide sufficient returns or diversification benefits over the period analyzed.\n",
    "\n",
    "The expected portfolio return of 35.12\\% reflects an aggressive approach that prioritizes high growth potential despite the associated risk, as indicated by the portfolio’s high volatility (60.56\\%). This allocation may appeal to investors with a high risk tolerance who wish to preserve and grow their purchasing power in a high inflation environment. In inflationary environments, preserving purchasing power often requires accepting higher volatility. The high allocation to real estate reflects this, as it may historically have outperformed inflation, despite its price volatility.\n",
    "\n",
    "It is also worth noting that the Markowitz optimization is purely mathematical and does not take into account behavioral factors or practical constraints such as liquidity needs and aversion to extreme volatility. \n"
   ]
  },
  {
   "cell_type": "markdown",
   "metadata": {},
   "source": [
    "# Conclusion and Future Research"
   ]
  },
  {
   "cell_type": "markdown",
   "metadata": {},
   "source": [
    "This study demonstrates that Turkish real estate is the most effective hedge against inflation over the period analyzed. It also dominates the Markowitz portfolio due to its high real returns and relatively lower risk compared to other assets. While stocks and Bitcoin provide additional diversification, their contributions are limited by their high volatility. Bonds and gold, traditionally seen as safe havens, have not performed well enough in the Turkish context to justify inclusion in the portfolio. The resulting portfolio offers high expected returns but comes with significant volatility, making it suitable only for risk-tolerant investors. As mentioned above, in an inflationary environment, preserving purchasing power often means accepting higher volatility.\n",
    "\n",
    "Future research could look into areas such as: \n",
    "- Expand the asset universe to include more complex financial products, such as derivatives (e.g., inflation-linked swaps or options), exchange-traded funds (ETFs), or foreign-denominated assets. These products could provide more effective and flexible hedging mechanisms against inflation.\n",
    "- Explore dynamic portfolio strategies that adapt to changing inflationary environments.\n",
    "- Assess the role of alternative risk measures, such as downside risk or drawdown, to create portfolios that better address practical investor concerns.\n"
   ]
  },
  {
   "cell_type": "markdown",
   "metadata": {},
   "source": [
    "# Generating Files for Publication\n"
   ]
  },
  {
   "cell_type": "markdown",
   "metadata": {},
   "source": [
    "If you wish to create the paper or presentation in a presentation ready format, here are some instructions to convert the .tex files to .pdf.\n",
    "\n",
    "The recommended way is to use the `texlive/texlive` distribution with docker. For this purpose, the medium distribution is enough. To pull the image using the docker CLI (command line interface):\n",
    "\n",
    "    docker pull texlive/texlive:lastest-medium\n",
    "\n",
    "Alternatively, you can also use docker's graphical interface. To run the docker container, run this command from the `reports` directory (if you run it from a different directory, you will have to navigate to the correct path inside the container):\n",
    "\n",
    "    docker run -v $(pwd):/workdir -it texlive/texlive:latest-medium bash\n",
    "\n",
    "From inside the container run the following commands after each other. Note, that it's best to run the last command twice, as is shown.\n",
    "\n",
    "**For the paper:**\n",
    "\n",
    "    pdflatex Hedging-Against-Turkish-Inflation-Paper.tex\n",
    "    bibtex Hedging-Against-Turkish-Inflation-Paper.aux\n",
    "    pdflatex Hedging-Against-Turkish-Inflation-Paper.tex\n",
    "    pdflatex Hedging-Against-Turkish-Inflation-Paper.tex\n",
    "\n",
    "**For the presentation:**\n",
    "\n",
    "    pdflatex Hedging-Against-Turkish-Inflation-Presentation.tex\n",
    "    bibtex Hedging-Against-Turkish-Inflation-Presentation.aux\n",
    "    pdflatex Hedging-Against-Turkish-Inflation-Presentation.tex\n",
    "    pdflatex Hedging-Against-Turkish-Inflation-Presentation.tex\n",
    "\n",
    "You can now find the .pdf of both the paper and the presentation in the `reports` directory.\n"
   ]
  }
 ],
 "metadata": {
  "kernelspec": {
   "display_name": "Python 3",
   "language": "python",
   "name": "python3"
  },
  "language_info": {
   "codemirror_mode": {
    "name": "ipython",
    "version": 3
   },
   "file_extension": ".py",
   "mimetype": "text/x-python",
   "name": "python",
   "nbconvert_exporter": "python",
   "pygments_lexer": "ipython3",
   "version": "3.12.6"
  }
 },
 "nbformat": 4,
 "nbformat_minor": 4
}
