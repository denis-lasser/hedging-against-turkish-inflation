{
 "cells": [
  {
   "cell_type": "code",
   "execution_count": 17,
   "id": "28426ce6",
   "metadata": {},
   "outputs": [],
   "source": [
    "import os\n",
    "import sqlite3\n",
    "import pandas as pd\n",
    "import matplotlib.pyplot as plt\n",
    "import seaborn as sns\n",
    "import matplotlib.dates as mdates\n",
    "import numpy as np\n",
    "from scipy.optimize import minimize"
   ]
  },
  {
   "cell_type": "code",
   "execution_count": 18,
   "id": "d933360a",
   "metadata": {},
   "outputs": [],
   "source": [
    "db_path = '../data/processed/database_final.db'\n",
    "\n",
    "if not os.path.isfile(db_path):\n",
    "    raise FileNotFoundError(f\"Database file not found at {db_path}\")\n",
    "\n",
    "conn = sqlite3.connect(db_path)"
   ]
  },
  {
   "cell_type": "code",
   "execution_count": 19,
   "id": "ee619711",
   "metadata": {},
   "outputs": [],
   "source": [
    "df_stock = pd.read_sql_query(\"SELECT * from STOCKEX\", conn)\n",
    "df_gold = pd.read_sql_query(\"SELECT * from GOLD\", conn)\n",
    "df_bond = pd.read_sql_query(\"SELECT * from BOND\", conn)\n",
    "df_hpi = pd.read_sql_query(\"SELECT * from HPI\", conn)\n",
    "df_btc = pd.read_sql_query(\"SELECT * from BTC\", conn)"
   ]
  },
  {
   "cell_type": "markdown",
   "id": "6938147d",
   "metadata": {},
   "source": [
    "# Markowitz Portfolio:"
   ]
  },
  {
   "cell_type": "code",
   "execution_count": 20,
   "id": "00ad15f5",
   "metadata": {},
   "outputs": [],
   "source": [
    "stock_ret = df_stock[\"real_return_stockex\"]\n",
    "gold_ret = df_gold[\"real_return_gold\"]\n",
    "bond_ret = df_bond[\"real_return_bond\"]\n",
    "hpi_ret = df_hpi[\"real_return_hpi\"]\n",
    "btc_ret = df_btc[\"real_return_bitcoin\"]"
   ]
  },
  {
   "cell_type": "code",
   "execution_count": 21,
   "id": "b5bba8d2",
   "metadata": {},
   "outputs": [
    {
     "name": "stdout",
     "output_type": "stream",
     "text": [
      "Optimal Portfolio Weights (%):\n",
      "Stock: 12.71%\n",
      "Gold: 0.00%\n",
      "Bond: 0.00%\n",
      "HPI: 86.37%\n",
      "Bitcoin: 0.92%\n",
      "\n",
      "Expected Portfolio Return: 35.12%\n",
      "Expected Portfolio Volatility: 60.56%\n"
     ]
    }
   ],
   "source": [
    "returns = pd.concat([stock_ret, gold_ret, bond_ret, hpi_ret, btc_ret], axis=1)\n",
    "returns.columns = ['Stock', 'Gold', 'Bond', 'HPI', 'Bitcoin']\n",
    "\n",
    "mean_returns = returns.mean()\n",
    "cov_matrix = returns.cov()\n",
    "\n",
    "num_assets = len(mean_returns)\n",
    "\n",
    "def portfolio_performance(weights, mean_returns, cov_matrix):\n",
    "    portfolio_return = np.dot(weights, mean_returns)\n",
    "    portfolio_volatility = np.sqrt(np.dot(weights.T, np.dot(cov_matrix, weights)))\n",
    "    return portfolio_return, portfolio_volatility\n",
    "\n",
    "def negative_sharpe_ratio(weights, mean_returns, cov_matrix, risk_free_rate=0.0178):\n",
    "    p_return, p_volatility = portfolio_performance(weights, mean_returns, cov_matrix)\n",
    "    sharpe_ratio = (p_return - risk_free_rate) / p_volatility\n",
    "    return -sharpe_ratio  \n",
    "\n",
    "constraints = ({'type': 'eq', 'fun': lambda x: np.sum(x) - 1}) \n",
    "bounds = tuple((0, 1) for _ in range(num_assets))  \n",
    "\n",
    "initial_guess = num_assets * [1. / num_assets, ]\n",
    "\n",
    "result = minimize(negative_sharpe_ratio, initial_guess,\n",
    "                  args=(mean_returns, cov_matrix),\n",
    "                  method='SLSQP', bounds=bounds, constraints=constraints)\n",
    "\n",
    "optimal_weights = result.x\n",
    "\n",
    "optimal_return, optimal_volatility = portfolio_performance(optimal_weights, mean_returns, cov_matrix)\n",
    "\n",
    "weights_percentages = optimal_weights * 100\n",
    "\n",
    "print(\"Optimal Portfolio Weights (%):\")\n",
    "for asset, weight in zip(returns.columns, weights_percentages):\n",
    "    print(f\"{asset}: {weight:.2f}%\")\n",
    "\n",
    "print(f\"\\nExpected Portfolio Return: {optimal_return:.2%}\")\n",
    "print(f\"Expected Portfolio Volatility: {optimal_volatility:.2%}\")"
   ]
  }
 ],
 "metadata": {
  "kernelspec": {
   "display_name": "Python 3 (ipykernel)",
   "language": "python",
   "name": "python3"
  },
  "language_info": {
   "codemirror_mode": {
    "name": "ipython",
    "version": 3
   },
   "file_extension": ".py",
   "mimetype": "text/x-python",
   "name": "python",
   "nbconvert_exporter": "python",
   "pygments_lexer": "ipython3",
   "version": "3.10.9"
  }
 },
 "nbformat": 4,
 "nbformat_minor": 5
}
