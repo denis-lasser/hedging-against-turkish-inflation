{
 "cells": [
  {
   "cell_type": "code",
   "execution_count": 1,
   "id": "7d6e7e84",
   "metadata": {},
   "outputs": [
    {
     "name": "stderr",
     "output_type": "stream",
     "text": [
      "/Users/necatifurkancolak/anaconda3/lib/python3.10/site-packages/pandas/core/arrays/masked.py:60: UserWarning: Pandas requires version '1.3.6' or newer of 'bottleneck' (version '1.3.5' currently installed).\n",
      "  from pandas.core import (\n"
     ]
    }
   ],
   "source": [
    "import pandas as pd"
   ]
  },
  {
   "cell_type": "code",
   "execution_count": 2,
   "id": "39ca8ed5",
   "metadata": {},
   "outputs": [],
   "source": [
    "df_stock_exchange = pd.read_excel('../data/raw/borsa_ist.xlsx')\n",
    "df_bitcoin = pd.read_excel('../data/raw/btc.xlsx')\n",
    "df_gold = pd.read_excel('../data/raw/gold_prices.xlsx')\n",
    "df_gov_bonds = pd.read_excel('../data/raw/gov_bonds.xlsx')\n",
    "df_hpi = pd.read_excel('../data/raw/hpi.xlsx')\n",
    "df_cpi = pd.read_excel('../data/raw/Turkish Inflation 2018-2024.xlsx')\n",
    "df_inf = pd.read_excel('../data/raw/Turkish Inflation 2018-2024.xlsx')"
   ]
  },
  {
   "cell_type": "markdown",
   "id": "2d97c8a3",
   "metadata": {},
   "source": [
    "# Stock_Exchange:"
   ]
  },
  {
   "cell_type": "code",
   "execution_count": 3,
   "id": "bd620ddb",
   "metadata": {},
   "outputs": [],
   "source": [
    "df_stock_exchange = df_stock_exchange.iloc[1:].reset_index(drop=True)\n",
    "df_stock_exchange.rename(columns={'Unnamed: 0': 'Date'}, inplace=True)\n",
    "df_stock_exchange.rename(columns={'Unnamed: 1': 'Price_Stock_Ex'}, inplace=True)\n",
    "df_stock_exchange['Date'] = pd.to_datetime(df_stock_exchange['Date'], errors='coerce')\n",
    "df_stock_exchange['Date'] = df_stock_exchange['Date'].dt.strftime('%Y-%m')\n",
    "\n",
    "df_stock_exchange['stock_return_mo'] = df_stock_exchange['Price_Stock_Ex'] / df_stock_exchange['Price_Stock_Ex'].shift(-1) - 1 #calculate 1 month stock return\n",
    "df_stock_exchange['stock_return_pa'] = (1 + df_stock_exchange['stock_return_mo'])**(12) - 1 #calculate stock return per annum\n",
    "\n",
    "df_stock_exchange\n",
    "df_stock_exchange.to_csv('../data/processed/df_stock_exchange.csv', index=False)"
   ]
  },
  {
   "cell_type": "markdown",
   "id": "6e1f1e7e",
   "metadata": {},
   "source": [
    "# Bitcoin:"
   ]
  },
  {
   "cell_type": "code",
   "execution_count": 4,
   "id": "4d22abf6",
   "metadata": {},
   "outputs": [],
   "source": [
    "df_bitcoin = df_bitcoin.iloc[1:].reset_index(drop=True)\n",
    "df_bitcoin.rename(columns={'Unnamed: 0': 'Date'}, inplace=True)\n",
    "df_bitcoin.rename(columns={'Unnamed: 1': 'Price_Bitcoin'}, inplace=True)\n",
    "df_bitcoin['Date'] = pd.to_datetime(df_bitcoin['Date'], errors='coerce')\n",
    "df_bitcoin['Date'] = df_bitcoin['Date'].dt.strftime('%Y-%m')\n",
    "\n",
    "df_bitcoin['btc_return_mo'] = df_bitcoin['Price_Bitcoin'] / df_bitcoin['Price_Bitcoin'].shift(-1) -1 # calculate 1 month return\n",
    "df_bitcoin['btc_return_pa'] = (1 + df_bitcoin['btc_return_mo'])**(12) - 1 #calculate return per annum\n",
    "\n",
    "df_bitcoin\n",
    "df_bitcoin.to_csv('../data/processed/df_bitcoin.csv', index=False)"
   ]
  },
  {
   "cell_type": "markdown",
   "id": "427dc3ed",
   "metadata": {},
   "source": [
    "# Gold:"
   ]
  },
  {
   "cell_type": "code",
   "execution_count": 5,
   "id": "637385f0",
   "metadata": {},
   "outputs": [],
   "source": [
    "df_gold = df_gold.iloc[1:].reset_index(drop=True)\n",
    "df_gold.rename(columns={'Unnamed: 0': 'Date'}, inplace=True)\n",
    "df_gold.rename(columns={'Unnamed: 1': 'Price_Gold'}, inplace=True)\n",
    "df_gold['Date'] = pd.to_datetime(df_gold['Date'], errors='coerce')\n",
    "df_gold['Date'] = df_gold['Date'].dt.strftime('%Y-%m')\n",
    "\n",
    "df_gold['gold_return_mo'] = df_gold['Price_Gold'] / df_gold['Price_Gold'].shift(-1) -1 # calculate 1 month return\n",
    "df_gold['gold_return_pa'] = (1 + df_gold['gold_return_mo'])**(12) - 1 #calculate return per annum (annualized return)\n",
    "\n",
    "df_gold\n",
    "df_gold.to_csv('../data/processed/df_gold.csv', index=False)"
   ]
  },
  {
   "cell_type": "markdown",
   "id": "c4b9f5f4",
   "metadata": {},
   "source": [
    "# Government Bonds:"
   ]
  },
  {
   "cell_type": "code",
   "execution_count": 6,
   "id": "c71b29e0",
   "metadata": {},
   "outputs": [],
   "source": [
    "df_gov_bonds = df_gov_bonds.iloc[1:].reset_index(drop=True)\n",
    "df_gov_bonds.rename(columns={'Unnamed: 0': 'Date'}, inplace=True)\n",
    "df_gov_bonds.rename(columns={'Yield (%)': 'Gov_Bond_Yield'}, inplace=True)\n",
    "df_gov_bonds['Date'] = pd.to_datetime(df_gov_bonds['Date'], errors='coerce')\n",
    "df_gov_bonds['Date'] = df_gov_bonds['Date'].dt.strftime('%Y-%m')  \n",
    "\n",
    "df_gov_bonds['bond_return_pa'] = df_gov_bonds['Gov_Bond_Yield'] / 100\n",
    "\n",
    "df_gov_bonds.to_csv('../data/processed/df_gov_bonds.csv', index=False)"
   ]
  },
  {
   "cell_type": "markdown",
   "id": "3396dcbe",
   "metadata": {},
   "source": [
    "# House Price Index:"
   ]
  },
  {
   "cell_type": "code",
   "execution_count": 7,
   "id": "c2a8d4ae",
   "metadata": {},
   "outputs": [],
   "source": [
    "df_hpi = df_hpi.iloc[1:].reset_index(drop=True)\n",
    "\n",
    "df_hpi.rename(columns={'Tarih': 'Date'}, inplace=True)\n",
    "df_hpi['Date'] = pd.to_datetime(df_hpi['Date'], errors='coerce')\n",
    "df_hpi['Date'] = df_hpi['Date'].dt.strftime('%Y-%m')\n",
    "\n",
    "df_hpi = df_hpi.dropna(subset=['Date'])\n",
    "\n",
    "df_hpi['hpi_return_mo'] = df_hpi['TP KFE TR-1'] / 100\n",
    "df_hpi['hpi_return_pa'] = (1 + df_hpi['hpi_return_mo'])**(12) - 1 #calculate annualized return\n",
    "\n",
    "#df_hpi\n",
    "df_hpi.to_csv('../data/processed/df_hpi.csv', index=False)"
   ]
  },
  {
   "cell_type": "markdown",
   "id": "2b6e114e",
   "metadata": {},
   "source": [
    "# Consumer Price Index"
   ]
  },
  {
   "cell_type": "code",
   "execution_count": 8,
   "id": "b8cbc830",
   "metadata": {},
   "outputs": [],
   "source": [
    "df_cpi = df_cpi.iloc[2:].reset_index(drop=True)\n",
    "df_cpi.rename(columns={'Unnamed: 0': 'Date'}, inplace=True)\n",
    "df_cpi.rename(columns={'Unnamed: 1': 'Inflation'}, inplace=True)\n",
    "df_cpi['Date'] = pd.to_datetime(df_cpi['Date'], errors='coerce', dayfirst=True)\n",
    "df_cpi['Date'] = df_cpi['Date'].dt.strftime('%Y-%m') \n",
    "df_cpi['Inflation'] = df_cpi['Inflation'] / 100 \n",
    "df_cpi.to_csv('../data/processed/df_cpi.csv', index=False)"
   ]
  },
  {
   "cell_type": "markdown",
   "id": "99cc7055",
   "metadata": {},
   "source": [
    "# The Adjustment for Annual Returns (for Bitcoin and Gold):"
   ]
  },
  {
   "cell_type": "code",
   "execution_count": 9,
   "id": "b5eaa821",
   "metadata": {},
   "outputs": [
    {
     "data": {
      "text/html": [
       "<div>\n",
       "<style scoped>\n",
       "    .dataframe tbody tr th:only-of-type {\n",
       "        vertical-align: middle;\n",
       "    }\n",
       "\n",
       "    .dataframe tbody tr th {\n",
       "        vertical-align: top;\n",
       "    }\n",
       "\n",
       "    .dataframe thead th {\n",
       "        text-align: right;\n",
       "    }\n",
       "</style>\n",
       "<table border=\"1\" class=\"dataframe\">\n",
       "  <thead>\n",
       "    <tr style=\"text-align: right;\">\n",
       "      <th></th>\n",
       "      <th>Date</th>\n",
       "      <th>Price_Bitcoin</th>\n",
       "      <th>btc_return_mo</th>\n",
       "      <th>btc_return_pa</th>\n",
       "      <th>real_return_bitcoin</th>\n",
       "    </tr>\n",
       "  </thead>\n",
       "  <tbody>\n",
       "    <tr>\n",
       "      <th>0</th>\n",
       "      <td>2024-09</td>\n",
       "      <td>63785.09</td>\n",
       "      <td>0.081934</td>\n",
       "      <td>1.572833</td>\n",
       "      <td>1.560262</td>\n",
       "    </tr>\n",
       "    <tr>\n",
       "      <th>1</th>\n",
       "      <td>2024-08</td>\n",
       "      <td>58954.67</td>\n",
       "      <td>-0.086823</td>\n",
       "      <td>-0.663752</td>\n",
       "      <td>-0.665477</td>\n",
       "    </tr>\n",
       "    <tr>\n",
       "      <th>2</th>\n",
       "      <td>2024-07</td>\n",
       "      <td>64559.96</td>\n",
       "      <td>0.042888</td>\n",
       "      <td>0.655212</td>\n",
       "      <td>0.645302</td>\n",
       "    </tr>\n",
       "    <tr>\n",
       "      <th>3</th>\n",
       "      <td>2024-06</td>\n",
       "      <td>61904.96</td>\n",
       "      <td>-0.084658</td>\n",
       "      <td>-0.65406</td>\n",
       "      <td>-0.656513</td>\n",
       "    </tr>\n",
       "    <tr>\n",
       "      <th>4</th>\n",
       "      <td>2024-05</td>\n",
       "      <td>67630.41</td>\n",
       "      <td>0.129642</td>\n",
       "      <td>3.318071</td>\n",
       "      <td>3.285935</td>\n",
       "    </tr>\n",
       "  </tbody>\n",
       "</table>\n",
       "</div>"
      ],
      "text/plain": [
       "      Date Price_Bitcoin btc_return_mo btc_return_pa real_return_bitcoin\n",
       "0  2024-09      63785.09      0.081934      1.572833            1.560262\n",
       "1  2024-08      58954.67     -0.086823     -0.663752           -0.665477\n",
       "2  2024-07      64559.96      0.042888      0.655212            0.645302\n",
       "3  2024-06      61904.96     -0.084658      -0.65406           -0.656513\n",
       "4  2024-05      67630.41      0.129642      3.318071            3.285935"
      ]
     },
     "execution_count": 9,
     "metadata": {},
     "output_type": "execute_result"
    }
   ],
   "source": [
    "def real_return(nom_ret, inf_rate):\n",
    "    return ((1 + nom_ret) / (1 + inf_rate)) - 1\n",
    "\n",
    "merged_df_btc = pd.merge(df_bitcoin, df_cpi, on=\"Date\", how=\"inner\")\n",
    "\n",
    "merged_df_btc[\"real_return_bitcoin\"] = real_return(merged_df_btc[\"btc_return_pa\"], merged_df_btc[\"Inflation\"] / 100)\n",
    "merged_df_btc = merged_df_btc.drop(columns=[\"Inflation\"])\n",
    "merged_df_btc.head()"
   ]
  },
  {
   "cell_type": "code",
   "execution_count": 10,
   "id": "7720f093",
   "metadata": {},
   "outputs": [
    {
     "data": {
      "text/html": [
       "<div>\n",
       "<style scoped>\n",
       "    .dataframe tbody tr th:only-of-type {\n",
       "        vertical-align: middle;\n",
       "    }\n",
       "\n",
       "    .dataframe tbody tr th {\n",
       "        vertical-align: top;\n",
       "    }\n",
       "\n",
       "    .dataframe thead th {\n",
       "        text-align: right;\n",
       "    }\n",
       "</style>\n",
       "<table border=\"1\" class=\"dataframe\">\n",
       "  <thead>\n",
       "    <tr style=\"text-align: right;\">\n",
       "      <th></th>\n",
       "      <th>Date</th>\n",
       "      <th>Price_Gold</th>\n",
       "      <th>gold_return_mo</th>\n",
       "      <th>gold_return_pa</th>\n",
       "      <th>real_return_gold</th>\n",
       "    </tr>\n",
       "  </thead>\n",
       "  <tbody>\n",
       "    <tr>\n",
       "      <th>0</th>\n",
       "      <td>2024-09</td>\n",
       "      <td>2634.58</td>\n",
       "      <td>0.052405</td>\n",
       "      <td>0.845842</td>\n",
       "      <td>0.836823</td>\n",
       "    </tr>\n",
       "    <tr>\n",
       "      <th>1</th>\n",
       "      <td>2024-08</td>\n",
       "      <td>2503.39</td>\n",
       "      <td>0.022794</td>\n",
       "      <td>0.31056</td>\n",
       "      <td>0.303837</td>\n",
       "    </tr>\n",
       "    <tr>\n",
       "      <th>2</th>\n",
       "      <td>2024-07</td>\n",
       "      <td>2447.6</td>\n",
       "      <td>0.051939</td>\n",
       "      <td>0.836068</td>\n",
       "      <td>0.825075</td>\n",
       "    </tr>\n",
       "    <tr>\n",
       "      <th>3</th>\n",
       "      <td>2024-06</td>\n",
       "      <td>2326.75</td>\n",
       "      <td>-0.000249</td>\n",
       "      <td>-0.002986</td>\n",
       "      <td>-0.010056</td>\n",
       "    </tr>\n",
       "    <tr>\n",
       "      <th>4</th>\n",
       "      <td>2024-05</td>\n",
       "      <td>2327.33</td>\n",
       "      <td>0.017968</td>\n",
       "      <td>0.238258</td>\n",
       "      <td>0.229042</td>\n",
       "    </tr>\n",
       "  </tbody>\n",
       "</table>\n",
       "</div>"
      ],
      "text/plain": [
       "      Date Price_Gold gold_return_mo gold_return_pa real_return_gold\n",
       "0  2024-09    2634.58       0.052405       0.845842         0.836823\n",
       "1  2024-08    2503.39       0.022794        0.31056         0.303837\n",
       "2  2024-07     2447.6       0.051939       0.836068         0.825075\n",
       "3  2024-06    2326.75      -0.000249      -0.002986        -0.010056\n",
       "4  2024-05    2327.33       0.017968       0.238258         0.229042"
      ]
     },
     "execution_count": 10,
     "metadata": {},
     "output_type": "execute_result"
    }
   ],
   "source": [
    "merged_df_gold = pd.merge(df_gold, df_cpi, on=\"Date\", how=\"inner\")\n",
    "\n",
    "merged_df_gold[\"real_return_gold\"] = real_return(merged_df_gold[\"gold_return_pa\"], merged_df_gold[\"Inflation\"] / 100)\n",
    "merged_df_gold = merged_df_gold.drop(columns=[\"Inflation\"])\n",
    "merged_df_gold.head()"
   ]
  },
  {
   "cell_type": "markdown",
   "id": "1e890ba0",
   "metadata": {},
   "source": [
    "# Master_Table:\n"
   ]
  },
  {
   "cell_type": "code",
   "execution_count": 11,
   "id": "15e4af75",
   "metadata": {},
   "outputs": [],
   "source": [
    "merged_all = pd.merge(merged_df_btc, merged_df_gold, on=\"Date\", how=\"inner\")\n",
    "merged_all = pd.merge(merged_all, df_stock_exchange, on=\"Date\", how=\"inner\")\n",
    "merged_all = pd.merge(merged_all, df_hpi, on=\"Date\", how=\"inner\")\n",
    "merged_all = pd.merge(merged_all, df_gov_bonds, on=\"Date\", how=\"inner\")\n",
    "merged_all.head()\n",
    "merged_all.to_csv('../data/processed/master_table.csv', index=False)"
   ]
  },
  {
   "cell_type": "markdown",
   "id": "3a671186",
   "metadata": {},
   "source": [
    "# Database:"
   ]
  },
  {
   "cell_type": "code",
   "execution_count": 12,
   "id": "371ce3e9",
   "metadata": {},
   "outputs": [],
   "source": [
    "import sqlite3"
   ]
  },
  {
   "cell_type": "code",
   "execution_count": 13,
   "id": "502753fd",
   "metadata": {},
   "outputs": [],
   "source": [
    "conn = sqlite3.connect('../data/processed/database_name.db')"
   ]
  },
  {
   "cell_type": "code",
   "execution_count": 14,
   "id": "f1c85d5c",
   "metadata": {},
   "outputs": [
    {
     "data": {
      "text/plain": [
       "81"
      ]
     },
     "execution_count": 14,
     "metadata": {},
     "output_type": "execute_result"
    }
   ],
   "source": [
    "df_stock_exchange.to_sql('STOCKEX', conn, if_exists='replace', index=False)\n",
    "merged_df_btc.to_sql('BTC', conn, if_exists='replace', index=False)\n",
    "merged_df_gold.to_sql('GOLD', conn, if_exists='replace', index=False)\n",
    "df_gov_bonds.to_sql('BOND', conn, if_exists='replace', index=False)\n",
    "df_hpi.to_sql(\"HPI\",conn, if_exists='replace', index=False)\n",
    "df_cpi.to_sql(\"CPI\",conn, if_exists='replace', index=False)"
   ]
  },
  {
   "cell_type": "code",
   "execution_count": 15,
   "id": "3db42a6f",
   "metadata": {},
   "outputs": [
    {
     "data": {
      "text/html": [
       "<div>\n",
       "<style scoped>\n",
       "    .dataframe tbody tr th:only-of-type {\n",
       "        vertical-align: middle;\n",
       "    }\n",
       "\n",
       "    .dataframe tbody tr th {\n",
       "        vertical-align: top;\n",
       "    }\n",
       "\n",
       "    .dataframe thead th {\n",
       "        text-align: right;\n",
       "    }\n",
       "</style>\n",
       "<table border=\"1\" class=\"dataframe\">\n",
       "  <thead>\n",
       "    <tr style=\"text-align: right;\">\n",
       "      <th></th>\n",
       "      <th>Date</th>\n",
       "      <th>Price_Stock_Ex</th>\n",
       "      <th>stock_return_mo</th>\n",
       "      <th>stock_return_pa</th>\n",
       "    </tr>\n",
       "  </thead>\n",
       "  <tbody>\n",
       "    <tr>\n",
       "      <th>0</th>\n",
       "      <td>2024-09</td>\n",
       "      <td>282.62</td>\n",
       "      <td>-0.020619</td>\n",
       "      <td>-0.221210</td>\n",
       "    </tr>\n",
       "    <tr>\n",
       "      <th>1</th>\n",
       "      <td>2024-08</td>\n",
       "      <td>288.57</td>\n",
       "      <td>-0.101756</td>\n",
       "      <td>-0.724111</td>\n",
       "    </tr>\n",
       "    <tr>\n",
       "      <th>2</th>\n",
       "      <td>2024-07</td>\n",
       "      <td>321.26</td>\n",
       "      <td>-0.012055</td>\n",
       "      <td>-0.135442</td>\n",
       "    </tr>\n",
       "    <tr>\n",
       "      <th>3</th>\n",
       "      <td>2024-06</td>\n",
       "      <td>325.18</td>\n",
       "      <td>0.006874</td>\n",
       "      <td>0.085678</td>\n",
       "    </tr>\n",
       "    <tr>\n",
       "      <th>4</th>\n",
       "      <td>2024-05</td>\n",
       "      <td>322.96</td>\n",
       "      <td>0.041538</td>\n",
       "      <td>0.629670</td>\n",
       "    </tr>\n",
       "    <tr>\n",
       "      <th>...</th>\n",
       "      <td>...</td>\n",
       "      <td>...</td>\n",
       "      <td>...</td>\n",
       "      <td>...</td>\n",
       "    </tr>\n",
       "    <tr>\n",
       "      <th>76</th>\n",
       "      <td>2018-05</td>\n",
       "      <td>221.65</td>\n",
       "      <td>-0.134416</td>\n",
       "      <td>-0.823108</td>\n",
       "    </tr>\n",
       "    <tr>\n",
       "      <th>77</th>\n",
       "      <td>2018-04</td>\n",
       "      <td>256.07</td>\n",
       "      <td>-0.118793</td>\n",
       "      <td>-0.780752</td>\n",
       "    </tr>\n",
       "    <tr>\n",
       "      <th>78</th>\n",
       "      <td>2018-03</td>\n",
       "      <td>290.59</td>\n",
       "      <td>-0.072220</td>\n",
       "      <td>-0.593238</td>\n",
       "    </tr>\n",
       "    <tr>\n",
       "      <th>79</th>\n",
       "      <td>2018-02</td>\n",
       "      <td>313.21</td>\n",
       "      <td>-0.014753</td>\n",
       "      <td>-0.163355</td>\n",
       "    </tr>\n",
       "    <tr>\n",
       "      <th>80</th>\n",
       "      <td>2018-01</td>\n",
       "      <td>317.9</td>\n",
       "      <td>NaN</td>\n",
       "      <td>NaN</td>\n",
       "    </tr>\n",
       "  </tbody>\n",
       "</table>\n",
       "<p>81 rows × 4 columns</p>\n",
       "</div>"
      ],
      "text/plain": [
       "       Date Price_Stock_Ex  stock_return_mo  stock_return_pa\n",
       "0   2024-09         282.62        -0.020619        -0.221210\n",
       "1   2024-08         288.57        -0.101756        -0.724111\n",
       "2   2024-07         321.26        -0.012055        -0.135442\n",
       "3   2024-06         325.18         0.006874         0.085678\n",
       "4   2024-05         322.96         0.041538         0.629670\n",
       "..      ...            ...              ...              ...\n",
       "76  2018-05         221.65        -0.134416        -0.823108\n",
       "77  2018-04         256.07        -0.118793        -0.780752\n",
       "78  2018-03         290.59        -0.072220        -0.593238\n",
       "79  2018-02         313.21        -0.014753        -0.163355\n",
       "80  2018-01          317.9              NaN              NaN\n",
       "\n",
       "[81 rows x 4 columns]"
      ]
     },
     "execution_count": 15,
     "metadata": {},
     "output_type": "execute_result"
    }
   ],
   "source": [
    "query = \"SELECT * FROM STOCKEX\"\n",
    "TRIAL = pd.read_sql_query(query, conn)\n",
    "TRIAL"
   ]
  },
  {
   "cell_type": "code",
   "execution_count": null,
   "id": "902bac6d",
   "metadata": {},
   "outputs": [],
   "source": []
  }
 ],
 "metadata": {
  "kernelspec": {
   "display_name": "Python 3 (ipykernel)",
   "language": "python",
   "name": "python3"
  },
  "language_info": {
   "codemirror_mode": {
    "name": "ipython",
    "version": 3
   },
   "file_extension": ".py",
   "mimetype": "text/x-python",
   "name": "python",
   "nbconvert_exporter": "python",
   "pygments_lexer": "ipython3",
   "version": "3.10.9"
  }
 },
 "nbformat": 4,
 "nbformat_minor": 5
}
