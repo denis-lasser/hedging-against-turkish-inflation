{
 "cells": [
  {
   "cell_type": "code",
   "execution_count": 5,
   "id": "d24bb9f0-d476-418f-94ea-ef7e682475a5",
   "metadata": {},
   "outputs": [],
   "source": [
    "import pandas as pd"
   ]
  },
  {
   "cell_type": "code",
   "execution_count": 6,
   "id": "24fee96f",
   "metadata": {},
   "outputs": [],
   "source": [
    "df_stock_exchange = pd.read_excel('../data/raw/borsa_ist.xlsx')\n",
    "df_bitcoin = pd.read_excel('../data/raw/btc.xlsx')\n",
    "df_gold = pd.read_excel('../data/raw/gold_prices.xlsx')\n",
    "df_gov_bonds = pd.read_excel('../data/raw/gov_bonds.xlsx')\n",
    "df_hpi = pd.read_excel('../data/raw/hpi.xlsx')\n",
    "df_cpi = pd.read_csv('../data/raw/turkish_inflation_cpi.csv', sep=\";\")"
   ]
  },
  {
   "cell_type": "markdown",
   "id": "0632b49b",
   "metadata": {},
   "source": [
    "# Stock_Exchange:"
   ]
  },
  {
   "cell_type": "code",
   "execution_count": 7,
   "id": "ce0e80de",
   "metadata": {},
   "outputs": [],
   "source": [
    "df_stock_exchange = df_stock_exchange.iloc[1:].reset_index(drop=True)\n",
    "df_stock_exchange.rename(columns={'Unnamed: 0': 'Date'}, inplace=True)\n",
    "df_stock_exchange.rename(columns={'Last Price (TRY)': 'Price_Stock_Ex'}, inplace=True)\n",
    "df_stock_exchange['Date'] = pd.to_datetime(df_stock_exchange['Date'], errors='coerce')\n",
    "df_stock_exchange['Date'] = df_stock_exchange['Date'].dt.strftime('%Y-%m')\n",
    "\n",
    "df_stock_exchange['stock_return_mo'] = df_stock_exchange['Price_Stock_Ex'] / df_stock_exchange['Price_Stock_Ex'].shift(-1) - 1 #calculate 1 month stock return\n",
    "df_stock_exchange['stock_return_pa'] = (1 + df_stock_exchange['stock_return_mo'])**(12) - 1 #calculate stock return per annum\n",
    "\n",
    "df_stock_exchange\n",
    "df_stock_exchange.to_csv('../data/processed/df_stock_exchange.csv', index=False)"
   ]
  },
  {
   "cell_type": "markdown",
   "id": "aa1f84fe",
   "metadata": {},
   "source": [
    "# Bitcoin:"
   ]
  },
  {
   "cell_type": "code",
   "execution_count": 8,
   "id": "a912014a",
   "metadata": {},
   "outputs": [],
   "source": [
    "df_bitcoin = df_bitcoin.iloc[1:].reset_index(drop=True)\n",
    "df_bitcoin.rename(columns={'Unnamed: 0': 'Date'}, inplace=True)\n",
    "df_bitcoin.rename(columns={'Unnamed: 1': 'Price_Bitcoin'}, inplace=True)\n",
    "df_bitcoin['Date'] = pd.to_datetime(df_bitcoin['Date'], errors='coerce')\n",
    "df_bitcoin['Date'] = df_bitcoin['Date'].dt.strftime('%Y-%m')\n",
    "\n",
    "df_bitcoin['btc_return_mo'] = df_bitcoin['Price_Bitcoin'] / df_bitcoin['Price_Bitcoin'].shift(-1) -1 # calculate 1 month return\n",
    "df_bitcoin['btc_return_pa'] = (1 + df_bitcoin['btc_return_mo'])**(12) - 1 #calculate return per annum\n",
    "\n",
    "df_bitcoin\n",
    "df_bitcoin.to_csv('../data/processed/df_bitcoin.csv', index=False)"
   ]
  },
  {
   "cell_type": "markdown",
   "id": "67080898",
   "metadata": {},
   "source": [
    "# Gold:"
   ]
  },
  {
   "cell_type": "code",
   "execution_count": 9,
   "id": "2a292e12",
   "metadata": {},
   "outputs": [],
   "source": [
    "df_gold = df_gold.iloc[1:].reset_index(drop=True)\n",
    "df_gold.rename(columns={'Unnamed: 0': 'Date'}, inplace=True)\n",
    "df_gold.rename(columns={'Last Price (TRY)': 'Price_Gold'}, inplace=True)\n",
    "df_gold['Date'] = pd.to_datetime(df_gold['Date'], errors='coerce')\n",
    "df_gold['Date'] = df_gold['Date'].dt.strftime('%Y-%m')\n",
    "\n",
    "df_gold['gold_return_mo'] = df_gold['Price_Gold'] / df_gold['Price_Gold'].shift(-1) -1 # calculate 1 month return\n",
    "df_gold['gold_return_pa'] = (1 + df_gold['gold_return_mo'])**(12) - 1 #calculate return per annum (annualized return)\n",
    "\n",
    "df_gold\n",
    "df_gold.to_csv('../data/processed/df_gold.csv', index=False)"
   ]
  },
  {
   "cell_type": "markdown",
   "id": "afd617ea",
   "metadata": {},
   "source": [
    "# Government Bonds:"
   ]
  },
  {
   "cell_type": "code",
   "execution_count": 10,
   "id": "2ffffd65",
   "metadata": {},
   "outputs": [],
   "source": [
    "df_gov_bonds = df_gov_bonds.iloc[1:].reset_index(drop=True)\n",
    "df_gov_bonds.rename(columns={'Unnamed: 0': 'Date'}, inplace=True)\n",
    "df_gov_bonds.rename(columns={'Yield (%)': 'Gov_Bond_Yield'}, inplace=True)\n",
    "df_gov_bonds['Date'] = pd.to_datetime(df_gov_bonds['Date'], errors='coerce')\n",
    "df_gov_bonds['Date'] = df_gov_bonds['Date'].dt.strftime('%Y-%m')  \n",
    "\n",
    "df_gov_bonds['bond_return_pa'] = df_gov_bonds['Gov_Bond_Yield'] / 100\n",
    "\n",
    "df_gov_bonds\n",
    "df_gov_bonds.to_csv('../data/processed/df_gov_bonds.csv', index=False)"
   ]
  },
  {
   "cell_type": "markdown",
   "id": "de632dc1",
   "metadata": {},
   "source": [
    "# House Price Index:"
   ]
  },
  {
   "cell_type": "code",
   "execution_count": 12,
   "id": "2c57e8e3",
   "metadata": {},
   "outputs": [],
   "source": [
    "df_hpi = df_hpi.iloc[1:].reset_index(drop=True)\n",
    "\n",
    "df_hpi.rename(columns={'Tarih': 'Date'}, inplace=True)\n",
    "df_hpi['Date'] = pd.to_datetime(df_hpi['Date'], errors='coerce')\n",
    "df_hpi['Date'] = df_hpi['Date'].dt.strftime('%Y-%m')\n",
    "\n",
    "df_hpi = df_hpi.dropna(subset=['Date'])\n",
    "\n",
    "df_hpi['hpi_return_mo'] = df_hpi['TP KFE TR-1'] / 100\n",
    "df_hpi['hpi_return_pa'] = (1 + df_hpi['hpi_return_mo'])**(12) - 1 #calculate annualized return\n",
    "\n",
    "#df_hpi\n",
    "df_hpi.to_csv('../data/processed/df_hpi.csv', index=False)"
   ]
  },
  {
   "cell_type": "markdown",
   "id": "2659ea11-4c82-48ae-b87f-d42c9be61c0a",
   "metadata": {},
   "source": [
    "# Consumer Price Index"
   ]
  },
  {
   "cell_type": "code",
   "execution_count": 14,
   "id": "ea0c0899-1bd7-433f-940f-43b4b64d190e",
   "metadata": {},
   "outputs": [],
   "source": [
    "df_cpi = df_cpi.iloc[1:].reset_index(drop=True)\n",
    "\n",
    "df_cpi.rename(columns={'in %': 'cpi_inflation'}, inplace=True)\n",
    "df_cpi['Date'] = pd.to_datetime(df_cpi['Date'], errors='coerce', dayfirst=True)\n",
    "df_cpi['Date'] = df_cpi['Date'].dt.strftime('%Y-%m') #inflation measured at the end of the month\n",
    "\n",
    "df_cpi['cpi_inflation'] = df_cpi['cpi_inflation'] / 100 \n",
    "\n",
    "#df_cpi\n",
    "df_cpi.to_csv('../data/processed/df_cpi.csv', index=False)"
   ]
  },
  {
   "cell_type": "markdown",
   "id": "68165498",
   "metadata": {},
   "source": [
    "# Database:"
   ]
  },
  {
   "cell_type": "code",
   "execution_count": 9,
   "id": "1898b705",
   "metadata": {},
   "outputs": [],
   "source": [
    "import sqlite3"
   ]
  },
  {
   "cell_type": "code",
   "execution_count": 10,
   "id": "afb47362",
   "metadata": {},
   "outputs": [],
   "source": [
    "conn = sqlite3.connect('database_name.db')"
   ]
  },
  {
   "cell_type": "code",
   "execution_count": 11,
   "id": "c400de54",
   "metadata": {},
   "outputs": [
    {
     "data": {
      "text/plain": [
       "59"
      ]
     },
     "execution_count": 11,
     "metadata": {},
     "output_type": "execute_result"
    }
   ],
   "source": [
    "df_stock_exchange.to_sql('STOCKEX', conn, if_exists='replace', index=False)\n",
    "df_bitcoin.to_sql('BTC', conn, if_exists='replace', index=False)\n",
    "df_gold.to_sql('GOLD', conn, if_exists='replace', index=False)\n",
    "df_gov_bonds.to_sql('BOND', conn, if_exists='replace', index=False)\n",
    "df_hpi.to_sql(\"HPI\",conn, if_exists='replace', index=False)"
   ]
  },
  {
   "cell_type": "code",
   "execution_count": 12,
   "id": "2d120fa0",
   "metadata": {},
   "outputs": [
    {
     "name": "stdout",
     "output_type": "stream",
     "text": [
      "       Date  Price_Stock_Ex\n",
      "0   2024-08         9833.22\n",
      "1   2024-07        10638.58\n",
      "2   2024-06        10647.91\n",
      "3   2024-05        10400.48\n",
      "4   2024-04        10045.74\n",
      "..      ...             ...\n",
      "75  2018-05         1006.52\n",
      "76  2018-04         1042.83\n",
      "77  2018-03         1149.30\n",
      "78  2018-02         1189.51\n",
      "79  2018-01         1195.29\n",
      "\n",
      "[80 rows x 2 columns]\n"
     ]
    }
   ],
   "source": [
    "query = \"SELECT * FROM STOCKEX\"\n",
    "TRIAL = pd.read_sql_query(query, conn)\n",
    "print(TRIAL)"
   ]
  },
  {
   "cell_type": "code",
   "execution_count": null,
   "id": "c017ad2a",
   "metadata": {},
   "outputs": [],
   "source": []
  }
 ],
 "metadata": {
  "kernelspec": {
   "display_name": "Python 3",
   "language": "python",
   "name": "python3"
  },
  "language_info": {
   "codemirror_mode": {
    "name": "ipython",
    "version": 3
   },
   "file_extension": ".py",
   "mimetype": "text/x-python",
   "name": "python",
   "nbconvert_exporter": "python",
   "pygments_lexer": "ipython3",
   "version": "3.12.2"
  }
 },
 "nbformat": 4,
 "nbformat_minor": 5
}
