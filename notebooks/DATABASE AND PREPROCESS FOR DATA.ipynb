{
 "cells": [
  {
   "cell_type": "code",
   "execution_count": 24,
   "id": "d24bb9f0-d476-418f-94ea-ef7e682475a5",
   "metadata": {},
   "outputs": [],
   "source": [
    "import pandas as pd"
   ]
  },
  {
   "cell_type": "code",
   "execution_count": 25,
   "id": "24fee96f",
   "metadata": {},
   "outputs": [],
   "source": [
    "df_stock_exchange = pd.read_excel('../data/raw/borsa_ist.xlsx')\n",
    "df_bitcoin = pd.read_excel('../data/raw/btc.xlsx')\n",
    "df_gold = pd.read_excel('../data/raw/gold_prices.xlsx')\n",
    "df_gov_bonds = pd.read_excel('../data/raw/gov_bonds.xlsx')\n",
    "df_hpi = pd.read_excel('../data/raw/hpi.xlsx')\n",
    "df_cpi = pd.read_csv('../data/raw/turkish_inflation_cpi.csv', sep=\";\")"
   ]
  },
  {
   "cell_type": "markdown",
   "id": "0632b49b",
   "metadata": {},
   "source": [
    "# Stock_Exchange:"
   ]
  },
  {
   "cell_type": "code",
   "execution_count": 26,
   "id": "ce0e80de",
   "metadata": {},
   "outputs": [],
   "source": [
    "df_stock_exchange = df_stock_exchange.iloc[1:].reset_index(drop=True)\n",
    "df_stock_exchange.rename(columns={'Unnamed: 0': 'Date'}, inplace=True)\n",
    "df_stock_exchange.rename(columns={'Last Price (TRY)': 'Price_Stock_Ex'}, inplace=True)\n",
    "df_stock_exchange['Date'] = pd.to_datetime(df_stock_exchange['Date'], errors='coerce')\n",
    "df_stock_exchange['Date'] = df_stock_exchange['Date'].dt.strftime('%Y-%m')\n",
    "\n",
    "df_stock_exchange['stock_return_mo'] = df_stock_exchange['Price_Stock_Ex'] / df_stock_exchange['Price_Stock_Ex'].shift(-1) - 1 #calculate 1 month stock return\n",
    "df_stock_exchange['stock_return_pa'] = (1 + df_stock_exchange['stock_return_mo'])**(12) - 1 #calculate stock return per annum\n",
    "\n",
    "df_stock_exchange\n",
    "df_stock_exchange.to_csv('../data/processed/df_stock_exchange.csv', index=False)"
   ]
  },
  {
   "cell_type": "markdown",
   "id": "aa1f84fe",
   "metadata": {},
   "source": [
    "# Bitcoin:"
   ]
  },
  {
   "cell_type": "code",
   "execution_count": 27,
   "id": "a912014a",
   "metadata": {},
   "outputs": [],
   "source": [
    "df_bitcoin = df_bitcoin.iloc[1:].reset_index(drop=True)\n",
    "df_bitcoin.rename(columns={'Unnamed: 0': 'Date'}, inplace=True)\n",
    "df_bitcoin.rename(columns={'Unnamed: 1': 'Price_Bitcoin'}, inplace=True)\n",
    "df_bitcoin['Date'] = pd.to_datetime(df_bitcoin['Date'], errors='coerce')\n",
    "df_bitcoin['Date'] = df_bitcoin['Date'].dt.strftime('%Y-%m')\n",
    "\n",
    "df_bitcoin['btc_return_mo'] = df_bitcoin['Price_Bitcoin'] / df_bitcoin['Price_Bitcoin'].shift(-1) -1 # calculate 1 month return\n",
    "df_bitcoin['btc_return_pa'] = (1 + df_bitcoin['btc_return_mo'])**(12) - 1 #calculate return per annum\n",
    "\n",
    "df_bitcoin\n",
    "df_bitcoin.to_csv('../data/processed/df_bitcoin.csv', index=False)"
   ]
  },
  {
   "cell_type": "markdown",
   "id": "67080898",
   "metadata": {},
   "source": [
    "# Gold:"
   ]
  },
  {
   "cell_type": "code",
   "execution_count": 28,
   "id": "2a292e12",
   "metadata": {},
   "outputs": [],
   "source": [
    "df_gold = df_gold.iloc[1:].reset_index(drop=True)\n",
    "df_gold.rename(columns={'Unnamed: 0': 'Date'}, inplace=True)\n",
    "df_gold.rename(columns={'Last Price (TRY)': 'Price_Gold'}, inplace=True)\n",
    "df_gold['Date'] = pd.to_datetime(df_gold['Date'], errors='coerce')\n",
    "df_gold['Date'] = df_gold['Date'].dt.strftime('%Y-%m')\n",
    "\n",
    "df_gold['gold_return_mo'] = df_gold['Price_Gold'] / df_gold['Price_Gold'].shift(-1) -1 # calculate 1 month return\n",
    "df_gold['gold_return_pa'] = (1 + df_gold['gold_return_mo'])**(12) - 1 #calculate return per annum (annualized return)\n",
    "\n",
    "df_gold\n",
    "df_gold.to_csv('../data/processed/df_gold.csv', index=False)"
   ]
  },
  {
   "cell_type": "markdown",
   "id": "afd617ea",
   "metadata": {},
   "source": [
    "# Government Bonds:"
   ]
  },
  {
   "cell_type": "code",
   "execution_count": 29,
   "id": "2ffffd65",
   "metadata": {},
   "outputs": [],
   "source": [
    "df_gov_bonds = df_gov_bonds.iloc[1:].reset_index(drop=True)\n",
    "df_gov_bonds.rename(columns={'Unnamed: 0': 'Date'}, inplace=True)\n",
    "df_gov_bonds.rename(columns={'Yield (%)': 'Gov_Bond_Yield'}, inplace=True)\n",
    "df_gov_bonds['Date'] = pd.to_datetime(df_gov_bonds['Date'], errors='coerce')\n",
    "df_gov_bonds['Date'] = df_gov_bonds['Date'].dt.strftime('%Y-%m')  \n",
    "\n",
    "df_gov_bonds['bond_return_pa'] = df_gov_bonds['Gov_Bond_Yield'] / 100\n",
    "\n",
    "df_gov_bonds\n",
    "df_gov_bonds.to_csv('../data/processed/df_gov_bonds.csv', index=False)"
   ]
  },
  {
   "cell_type": "markdown",
   "id": "de632dc1",
   "metadata": {},
   "source": [
    "# House Price Index:"
   ]
  },
  {
   "cell_type": "code",
   "execution_count": 30,
   "id": "2c57e8e3",
   "metadata": {},
   "outputs": [],
   "source": [
    "df_hpi = df_hpi.iloc[1:].reset_index(drop=True)\n",
    "\n",
    "df_hpi.rename(columns={'Tarih': 'Date'}, inplace=True)\n",
    "df_hpi['Date'] = pd.to_datetime(df_hpi['Date'], errors='coerce')\n",
    "df_hpi['Date'] = df_hpi['Date'].dt.strftime('%Y-%m')\n",
    "\n",
    "df_hpi = df_hpi.dropna(subset=['Date'])\n",
    "\n",
    "df_hpi['hpi_return_mo'] = df_hpi['TP KFE TR-1'] / 100\n",
    "df_hpi['hpi_return_pa'] = (1 + df_hpi['hpi_return_mo'])**(12) - 1 #calculate annualized return\n",
    "\n",
    "#df_hpi\n",
    "df_hpi.to_csv('../data/processed/df_hpi.csv', index=False)"
   ]
  },
  {
   "cell_type": "markdown",
   "id": "2659ea11-4c82-48ae-b87f-d42c9be61c0a",
   "metadata": {},
   "source": [
    "# Consumer Price Index"
   ]
  },
  {
   "cell_type": "code",
   "execution_count": 31,
   "id": "ea0c0899-1bd7-433f-940f-43b4b64d190e",
   "metadata": {},
   "outputs": [],
   "source": [
    "df_cpi = df_cpi.iloc[1:].reset_index(drop=True)\n",
    "\n",
    "df_cpi.rename(columns={'in %': 'cpi_inflation'}, inplace=True)\n",
    "df_cpi['Date'] = pd.to_datetime(df_cpi['Date'], errors='coerce', dayfirst=True)\n",
    "df_cpi['Date'] = df_cpi['Date'].dt.strftime('%Y-%m') #inflation measured at the end of the month\n",
    "\n",
    "df_cpi['cpi_inflation'] = df_cpi['cpi_inflation'] / 100 \n",
    "\n",
    "#df_cpi\n",
    "df_cpi.to_csv('../data/processed/df_cpi.csv', index=False)"
   ]
  },
  {
   "cell_type": "markdown",
   "id": "68165498",
   "metadata": {},
   "source": [
    "# Database:"
   ]
  },
  {
   "cell_type": "code",
   "execution_count": 32,
   "id": "1898b705",
   "metadata": {},
   "outputs": [],
   "source": [
    "import sqlite3"
   ]
  },
  {
   "cell_type": "code",
   "execution_count": 38,
   "id": "afb47362",
   "metadata": {},
   "outputs": [],
   "source": [
    "conn = sqlite3.connect('../data/processed/database_name.db')"
   ]
  },
  {
   "cell_type": "code",
   "execution_count": 40,
   "id": "c400de54",
   "metadata": {},
   "outputs": [
    {
     "data": {
      "text/plain": [
       "152"
      ]
     },
     "execution_count": 40,
     "metadata": {},
     "output_type": "execute_result"
    }
   ],
   "source": [
    "df_stock_exchange.to_sql('STOCKEX', conn, if_exists='replace', index=False)\n",
    "df_bitcoin.to_sql('BTC', conn, if_exists='replace', index=False)\n",
    "df_gold.to_sql('GOLD', conn, if_exists='replace', index=False)\n",
    "df_gov_bonds.to_sql('BOND', conn, if_exists='replace', index=False)\n",
    "df_hpi.to_sql(\"HPI\",conn, if_exists='replace', index=False)"
   ]
  },
  {
   "cell_type": "code",
   "execution_count": 42,
   "id": "2d120fa0",
   "metadata": {},
   "outputs": [
    {
     "data": {
      "text/html": [
       "<div>\n",
       "<style scoped>\n",
       "    .dataframe tbody tr th:only-of-type {\n",
       "        vertical-align: middle;\n",
       "    }\n",
       "\n",
       "    .dataframe tbody tr th {\n",
       "        vertical-align: top;\n",
       "    }\n",
       "\n",
       "    .dataframe thead th {\n",
       "        text-align: right;\n",
       "    }\n",
       "</style>\n",
       "<table border=\"1\" class=\"dataframe\">\n",
       "  <thead>\n",
       "    <tr style=\"text-align: right;\">\n",
       "      <th></th>\n",
       "      <th>Date</th>\n",
       "      <th>Price_Stock_Ex</th>\n",
       "      <th>stock_return_mo</th>\n",
       "      <th>stock_return_pa</th>\n",
       "    </tr>\n",
       "  </thead>\n",
       "  <tbody>\n",
       "    <tr>\n",
       "      <th>0</th>\n",
       "      <td>2024-08</td>\n",
       "      <td>9833.22</td>\n",
       "      <td>-0.075702</td>\n",
       "      <td>-0.611183</td>\n",
       "    </tr>\n",
       "    <tr>\n",
       "      <th>1</th>\n",
       "      <td>2024-07</td>\n",
       "      <td>10638.58</td>\n",
       "      <td>-0.000876</td>\n",
       "      <td>-0.010464</td>\n",
       "    </tr>\n",
       "    <tr>\n",
       "      <th>2</th>\n",
       "      <td>2024-06</td>\n",
       "      <td>10647.91</td>\n",
       "      <td>0.023790</td>\n",
       "      <td>0.325964</td>\n",
       "    </tr>\n",
       "    <tr>\n",
       "      <th>3</th>\n",
       "      <td>2024-05</td>\n",
       "      <td>10400.48</td>\n",
       "      <td>0.035312</td>\n",
       "      <td>0.516552</td>\n",
       "    </tr>\n",
       "    <tr>\n",
       "      <th>4</th>\n",
       "      <td>2024-04</td>\n",
       "      <td>10045.74</td>\n",
       "      <td>0.098808</td>\n",
       "      <td>2.097851</td>\n",
       "    </tr>\n",
       "    <tr>\n",
       "      <th>...</th>\n",
       "      <td>...</td>\n",
       "      <td>...</td>\n",
       "      <td>...</td>\n",
       "      <td>...</td>\n",
       "    </tr>\n",
       "    <tr>\n",
       "      <th>75</th>\n",
       "      <td>2018-05</td>\n",
       "      <td>1006.52</td>\n",
       "      <td>-0.034819</td>\n",
       "      <td>-0.346408</td>\n",
       "    </tr>\n",
       "    <tr>\n",
       "      <th>76</th>\n",
       "      <td>2018-04</td>\n",
       "      <td>1042.83</td>\n",
       "      <td>-0.092639</td>\n",
       "      <td>-0.688569</td>\n",
       "    </tr>\n",
       "    <tr>\n",
       "      <th>77</th>\n",
       "      <td>2018-03</td>\n",
       "      <td>1149.30</td>\n",
       "      <td>-0.033804</td>\n",
       "      <td>-0.338113</td>\n",
       "    </tr>\n",
       "    <tr>\n",
       "      <th>78</th>\n",
       "      <td>2018-02</td>\n",
       "      <td>1189.51</td>\n",
       "      <td>-0.004836</td>\n",
       "      <td>-0.056509</td>\n",
       "    </tr>\n",
       "    <tr>\n",
       "      <th>79</th>\n",
       "      <td>2018-01</td>\n",
       "      <td>1195.29</td>\n",
       "      <td>NaN</td>\n",
       "      <td>NaN</td>\n",
       "    </tr>\n",
       "  </tbody>\n",
       "</table>\n",
       "<p>80 rows × 4 columns</p>\n",
       "</div>"
      ],
      "text/plain": [
       "       Date  Price_Stock_Ex  stock_return_mo  stock_return_pa\n",
       "0   2024-08         9833.22        -0.075702        -0.611183\n",
       "1   2024-07        10638.58        -0.000876        -0.010464\n",
       "2   2024-06        10647.91         0.023790         0.325964\n",
       "3   2024-05        10400.48         0.035312         0.516552\n",
       "4   2024-04        10045.74         0.098808         2.097851\n",
       "..      ...             ...              ...              ...\n",
       "75  2018-05         1006.52        -0.034819        -0.346408\n",
       "76  2018-04         1042.83        -0.092639        -0.688569\n",
       "77  2018-03         1149.30        -0.033804        -0.338113\n",
       "78  2018-02         1189.51        -0.004836        -0.056509\n",
       "79  2018-01         1195.29              NaN              NaN\n",
       "\n",
       "[80 rows x 4 columns]"
      ]
     },
     "execution_count": 42,
     "metadata": {},
     "output_type": "execute_result"
    }
   ],
   "source": [
    "query = \"SELECT * FROM STOCKEX\"\n",
    "TRIAL = pd.read_sql_query(query, conn)\n",
    "TRIAL"
   ]
  },
  {
   "cell_type": "code",
   "execution_count": null,
   "id": "c017ad2a",
   "metadata": {},
   "outputs": [],
   "source": []
  }
 ],
 "metadata": {
  "kernelspec": {
   "display_name": "Python 3",
   "language": "python",
   "name": "python3"
  },
  "language_info": {
   "codemirror_mode": {
    "name": "ipython",
    "version": 3
   },
   "file_extension": ".py",
   "mimetype": "text/x-python",
   "name": "python",
   "nbconvert_exporter": "python",
   "pygments_lexer": "ipython3",
   "version": "3.12.2"
  }
 },
 "nbformat": 4,
 "nbformat_minor": 5
}
