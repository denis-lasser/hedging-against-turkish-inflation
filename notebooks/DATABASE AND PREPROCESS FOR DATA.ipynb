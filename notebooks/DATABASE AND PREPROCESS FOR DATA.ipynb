{
 "cells": [
  {
   "cell_type": "code",
   "execution_count": 2,
   "id": "7d6e7e84",
   "metadata": {},
   "outputs": [
    {
     "name": "stderr",
     "output_type": "stream",
     "text": [
      "/Users/necatifurkancolak/anaconda3/lib/python3.10/site-packages/pandas/core/arrays/masked.py:60: UserWarning: Pandas requires version '1.3.6' or newer of 'bottleneck' (version '1.3.5' currently installed).\n",
      "  from pandas.core import (\n"
     ]
    }
   ],
   "source": [
    "import pandas as pd"
   ]
  },
  {
   "cell_type": "code",
   "execution_count": 3,
   "id": "39ca8ed5",
   "metadata": {},
   "outputs": [],
   "source": [
    "df_stock_exchange = pd.read_excel('../data/raw/borsa_ist.xlsx')\n",
    "df_bitcoin = pd.read_excel('../data/raw/btc.xlsx')\n",
    "df_gold = pd.read_excel('../data/raw/gold_prices.xlsx')\n",
    "df_gov_bonds = pd.read_excel('../data/raw/gov_bonds.xlsx')\n",
    "df_hpi = pd.read_excel('../data/raw/hpi.xlsx')\n",
    "df_inf = pd.read_csv('../data/raw/turkish_inflation_cpi.csv',sep=\";\")"
   ]
  },
  {
   "cell_type": "markdown",
   "id": "2d97c8a3",
   "metadata": {},
   "source": [
    "# Stock_Exchange:"
   ]
  },
  {
   "cell_type": "code",
   "execution_count": 4,
   "id": "bd620ddb",
   "metadata": {},
   "outputs": [],
   "source": [
    "df_stock_exchange = df_stock_exchange.iloc[1:].reset_index(drop=True)\n",
    "df_stock_exchange.rename(columns={'Unnamed: 0': 'Date'}, inplace=True)\n",
    "df_stock_exchange.rename(columns={'Unnamed: 1': 'Price_Stock_Ex'}, inplace=True)\n",
    "df_stock_exchange['Date'] = pd.to_datetime(df_stock_exchange['Date'], errors='coerce')\n",
    "df_stock_exchange['Date'] = df_stock_exchange['Date'].dt.strftime('%Y-%m')\n",
    "\n",
    "df_stock_exchange['stock_return_mo'] = df_stock_exchange['Price_Stock_Ex'] / df_stock_exchange['Price_Stock_Ex'].shift(-1) - 1 #calculate 1 month stock return\n",
    "df_stock_exchange['stock_return_pa'] = (1 + df_stock_exchange['stock_return_mo'])**(12) - 1 #calculate stock return per annum\n",
    "\n",
    "df_stock_exchange\n",
    "df_stock_exchange.to_csv('../data/processed/df_stock_exchange.csv', index=False)"
   ]
  },
  {
   "cell_type": "code",
   "execution_count": 5,
   "id": "10cee881",
   "metadata": {},
   "outputs": [
    {
     "data": {
      "text/html": [
       "<div>\n",
       "<style scoped>\n",
       "    .dataframe tbody tr th:only-of-type {\n",
       "        vertical-align: middle;\n",
       "    }\n",
       "\n",
       "    .dataframe tbody tr th {\n",
       "        vertical-align: top;\n",
       "    }\n",
       "\n",
       "    .dataframe thead th {\n",
       "        text-align: right;\n",
       "    }\n",
       "</style>\n",
       "<table border=\"1\" class=\"dataframe\">\n",
       "  <thead>\n",
       "    <tr style=\"text-align: right;\">\n",
       "      <th></th>\n",
       "      <th>Date</th>\n",
       "      <th>Price_Stock_Ex</th>\n",
       "      <th>stock_return_mo</th>\n",
       "      <th>stock_return_pa</th>\n",
       "    </tr>\n",
       "  </thead>\n",
       "  <tbody>\n",
       "    <tr>\n",
       "      <th>0</th>\n",
       "      <td>2024-09</td>\n",
       "      <td>282.62</td>\n",
       "      <td>-0.020619</td>\n",
       "      <td>-0.22121</td>\n",
       "    </tr>\n",
       "    <tr>\n",
       "      <th>1</th>\n",
       "      <td>2024-08</td>\n",
       "      <td>288.57</td>\n",
       "      <td>-0.101756</td>\n",
       "      <td>-0.724111</td>\n",
       "    </tr>\n",
       "    <tr>\n",
       "      <th>2</th>\n",
       "      <td>2024-07</td>\n",
       "      <td>321.26</td>\n",
       "      <td>-0.012055</td>\n",
       "      <td>-0.135442</td>\n",
       "    </tr>\n",
       "    <tr>\n",
       "      <th>3</th>\n",
       "      <td>2024-06</td>\n",
       "      <td>325.18</td>\n",
       "      <td>0.006874</td>\n",
       "      <td>0.085678</td>\n",
       "    </tr>\n",
       "    <tr>\n",
       "      <th>4</th>\n",
       "      <td>2024-05</td>\n",
       "      <td>322.96</td>\n",
       "      <td>0.041538</td>\n",
       "      <td>0.62967</td>\n",
       "    </tr>\n",
       "  </tbody>\n",
       "</table>\n",
       "</div>"
      ],
      "text/plain": [
       "      Date Price_Stock_Ex stock_return_mo stock_return_pa\n",
       "0  2024-09         282.62       -0.020619        -0.22121\n",
       "1  2024-08         288.57       -0.101756       -0.724111\n",
       "2  2024-07         321.26       -0.012055       -0.135442\n",
       "3  2024-06         325.18        0.006874        0.085678\n",
       "4  2024-05         322.96        0.041538         0.62967"
      ]
     },
     "execution_count": 5,
     "metadata": {},
     "output_type": "execute_result"
    }
   ],
   "source": [
    "df_stock_exchange.head()"
   ]
  },
  {
   "cell_type": "markdown",
   "id": "6e1f1e7e",
   "metadata": {},
   "source": [
    "# Bitcoin:"
   ]
  },
  {
   "cell_type": "code",
   "execution_count": 6,
   "id": "4d22abf6",
   "metadata": {},
   "outputs": [],
   "source": [
    "df_bitcoin = df_bitcoin.iloc[1:].reset_index(drop=True)\n",
    "df_bitcoin.rename(columns={'Unnamed: 0': 'Date'}, inplace=True)\n",
    "df_bitcoin.rename(columns={'Unnamed: 1': 'Price_Bitcoin'}, inplace=True)\n",
    "df_bitcoin['Date'] = pd.to_datetime(df_bitcoin['Date'], errors='coerce')\n",
    "df_bitcoin['Date'] = df_bitcoin['Date'].dt.strftime('%Y-%m')\n",
    "\n",
    "df_bitcoin['btc_return_mo'] = df_bitcoin['Price_Bitcoin'] / df_bitcoin['Price_Bitcoin'].shift(-1) -1 # calculate 1 month return\n",
    "df_bitcoin['btc_return_pa'] = (1 + df_bitcoin['btc_return_mo'])**(12) - 1 #calculate return per annum\n",
    "\n",
    "df_bitcoin\n",
    "df_bitcoin.to_csv('../data/processed/df_bitcoin.csv', index=False)"
   ]
  },
  {
   "cell_type": "markdown",
   "id": "427dc3ed",
   "metadata": {},
   "source": [
    "# Gold:"
   ]
  },
  {
   "cell_type": "code",
   "execution_count": 7,
   "id": "637385f0",
   "metadata": {},
   "outputs": [],
   "source": [
    "df_gold = df_gold.iloc[1:].reset_index(drop=True)\n",
    "df_gold.rename(columns={'Unnamed: 0': 'Date'}, inplace=True)\n",
    "df_gold.rename(columns={'Unnamed: 1': 'Price_Gold'}, inplace=True)\n",
    "df_gold['Date'] = pd.to_datetime(df_gold['Date'], errors='coerce')\n",
    "df_gold['Date'] = df_gold['Date'].dt.strftime('%Y-%m')\n",
    "\n",
    "df_gold['gold_return_mo'] = df_gold['Price_Gold'] / df_gold['Price_Gold'].shift(-1) -1 # calculate 1 month return\n",
    "df_gold['gold_return_pa'] = (1 + df_gold['gold_return_mo'])**(12) - 1 #calculate return per annum (annualized return)\n",
    "\n",
    "df_gold\n",
    "df_gold.to_csv('../data/processed/df_gold.csv', index=False)"
   ]
  },
  {
   "cell_type": "markdown",
   "id": "c4b9f5f4",
   "metadata": {},
   "source": [
    "# Government Bonds:"
   ]
  },
  {
   "cell_type": "code",
   "execution_count": 8,
   "id": "c71b29e0",
   "metadata": {},
   "outputs": [],
   "source": [
    "df_gov_bonds = df_gov_bonds.iloc[1:].reset_index(drop=True)\n",
    "df_gov_bonds.rename(columns={'Unnamed: 0': 'Date'}, inplace=True)\n",
    "df_gov_bonds.rename(columns={'Yield (%)': 'Gov_Bond_Yield'}, inplace=True)\n",
    "df_gov_bonds['Date'] = pd.to_datetime(df_gov_bonds['Date'], errors='coerce')\n",
    "df_gov_bonds['Date'] = df_gov_bonds['Date'].dt.strftime('%Y-%m')  \n",
    "\n",
    "df_gov_bonds['bond_return_pa'] = df_gov_bonds['Gov_Bond_Yield'] / 100\n",
    "\n",
    "df_gov_bonds.to_csv('../data/processed/df_gov_bonds.csv', index=False)"
   ]
  },
  {
   "cell_type": "markdown",
   "id": "3396dcbe",
   "metadata": {},
   "source": [
    "# House Price Index:"
   ]
  },
  {
   "cell_type": "code",
   "execution_count": 9,
   "id": "c2a8d4ae",
   "metadata": {},
   "outputs": [],
   "source": [
    "df_hpi = df_hpi.iloc[1:].reset_index(drop=True)\n",
    "\n",
    "df_hpi.rename(columns={'Tarih': 'Date'}, inplace=True)\n",
    "df_hpi['Date'] = pd.to_datetime(df_hpi['Date'], errors='coerce')\n",
    "df_hpi['Date'] = df_hpi['Date'].dt.strftime('%Y-%m')\n",
    "\n",
    "df_hpi = df_hpi.dropna(subset=['Date'])\n",
    "\n",
    "df_hpi['hpi_return_mo'] = df_hpi['TP KFE TR-1'] / 100\n",
    "df_hpi['hpi_return_pa'] = (1 + df_hpi['hpi_return_mo'])**(12) - 1 #calculate annualized return\n",
    "\n",
    "#df_hpi\n",
    "df_hpi.to_csv('../data/processed/df_hpi.csv', index=False)"
   ]
  },
  {
   "cell_type": "markdown",
   "id": "2b6e114e",
   "metadata": {},
   "source": [
    "# Inflation:"
   ]
  },
  {
   "cell_type": "code",
   "execution_count": 10,
   "id": "b8cbc830",
   "metadata": {},
   "outputs": [
    {
     "data": {
      "text/html": [
       "<div>\n",
       "<style scoped>\n",
       "    .dataframe tbody tr th:only-of-type {\n",
       "        vertical-align: middle;\n",
       "    }\n",
       "\n",
       "    .dataframe tbody tr th {\n",
       "        vertical-align: top;\n",
       "    }\n",
       "\n",
       "    .dataframe thead th {\n",
       "        text-align: right;\n",
       "    }\n",
       "</style>\n",
       "<table border=\"1\" class=\"dataframe\">\n",
       "  <thead>\n",
       "    <tr style=\"text-align: right;\">\n",
       "      <th></th>\n",
       "      <th>Date</th>\n",
       "      <th>Inflation</th>\n",
       "    </tr>\n",
       "  </thead>\n",
       "  <tbody>\n",
       "    <tr>\n",
       "      <th>0</th>\n",
       "      <td>2024-09</td>\n",
       "      <td>0.4910</td>\n",
       "    </tr>\n",
       "    <tr>\n",
       "      <th>1</th>\n",
       "      <td>2024-08</td>\n",
       "      <td>0.5156</td>\n",
       "    </tr>\n",
       "    <tr>\n",
       "      <th>2</th>\n",
       "      <td>2024-07</td>\n",
       "      <td>0.6023</td>\n",
       "    </tr>\n",
       "    <tr>\n",
       "      <th>3</th>\n",
       "      <td>2024-06</td>\n",
       "      <td>0.7141</td>\n",
       "    </tr>\n",
       "    <tr>\n",
       "      <th>4</th>\n",
       "      <td>2024-05</td>\n",
       "      <td>0.7498</td>\n",
       "    </tr>\n",
       "  </tbody>\n",
       "</table>\n",
       "</div>"
      ],
      "text/plain": [
       "      Date  Inflation\n",
       "0  2024-09     0.4910\n",
       "1  2024-08     0.5156\n",
       "2  2024-07     0.6023\n",
       "3  2024-06     0.7141\n",
       "4  2024-05     0.7498"
      ]
     },
     "execution_count": 10,
     "metadata": {},
     "output_type": "execute_result"
    }
   ],
   "source": [
    "df_inf.head()"
   ]
  },
  {
   "cell_type": "markdown",
   "id": "99cc7055",
   "metadata": {},
   "source": [
    "# The Adjustment for Annual Returns (for Bitcoin and Gold):"
   ]
  },
  {
   "cell_type": "code",
   "execution_count": 11,
   "id": "81e79ffb",
   "metadata": {},
   "outputs": [],
   "source": [
    "def real_return(nom_ret, inf_rate):\n",
    "    return ((1 + nom_ret) / (1 + inf_rate)) - 1"
   ]
  },
  {
   "cell_type": "code",
   "execution_count": 12,
   "id": "b5eaa821",
   "metadata": {},
   "outputs": [
    {
     "data": {
      "text/html": [
       "<div>\n",
       "<style scoped>\n",
       "    .dataframe tbody tr th:only-of-type {\n",
       "        vertical-align: middle;\n",
       "    }\n",
       "\n",
       "    .dataframe tbody tr th {\n",
       "        vertical-align: top;\n",
       "    }\n",
       "\n",
       "    .dataframe thead th {\n",
       "        text-align: right;\n",
       "    }\n",
       "</style>\n",
       "<table border=\"1\" class=\"dataframe\">\n",
       "  <thead>\n",
       "    <tr style=\"text-align: right;\">\n",
       "      <th></th>\n",
       "      <th>Date</th>\n",
       "      <th>Price_Bitcoin</th>\n",
       "      <th>btc_return_mo</th>\n",
       "      <th>btc_return_pa</th>\n",
       "      <th>real_return_bitcoin</th>\n",
       "    </tr>\n",
       "  </thead>\n",
       "  <tbody>\n",
       "    <tr>\n",
       "      <th>0</th>\n",
       "      <td>2024-09</td>\n",
       "      <td>63785.09</td>\n",
       "      <td>0.081934</td>\n",
       "      <td>1.572833</td>\n",
       "      <td>0.725575</td>\n",
       "    </tr>\n",
       "    <tr>\n",
       "      <th>1</th>\n",
       "      <td>2024-08</td>\n",
       "      <td>58954.67</td>\n",
       "      <td>-0.086823</td>\n",
       "      <td>-0.663752</td>\n",
       "      <td>-0.778142</td>\n",
       "    </tr>\n",
       "    <tr>\n",
       "      <th>2</th>\n",
       "      <td>2024-07</td>\n",
       "      <td>64559.96</td>\n",
       "      <td>0.042888</td>\n",
       "      <td>0.655212</td>\n",
       "      <td>0.033023</td>\n",
       "    </tr>\n",
       "    <tr>\n",
       "      <th>3</th>\n",
       "      <td>2024-06</td>\n",
       "      <td>61904.96</td>\n",
       "      <td>-0.084658</td>\n",
       "      <td>-0.65406</td>\n",
       "      <td>-0.79818</td>\n",
       "    </tr>\n",
       "    <tr>\n",
       "      <th>4</th>\n",
       "      <td>2024-05</td>\n",
       "      <td>67630.41</td>\n",
       "      <td>0.129642</td>\n",
       "      <td>3.318071</td>\n",
       "      <td>1.467751</td>\n",
       "    </tr>\n",
       "  </tbody>\n",
       "</table>\n",
       "</div>"
      ],
      "text/plain": [
       "      Date Price_Bitcoin btc_return_mo btc_return_pa real_return_bitcoin\n",
       "0  2024-09      63785.09      0.081934      1.572833            0.725575\n",
       "1  2024-08      58954.67     -0.086823     -0.663752           -0.778142\n",
       "2  2024-07      64559.96      0.042888      0.655212            0.033023\n",
       "3  2024-06      61904.96     -0.084658      -0.65406            -0.79818\n",
       "4  2024-05      67630.41      0.129642      3.318071            1.467751"
      ]
     },
     "execution_count": 12,
     "metadata": {},
     "output_type": "execute_result"
    }
   ],
   "source": [
    "merged_df_btc = pd.merge(df_bitcoin, df_inf, on=\"Date\", how=\"inner\")\n",
    "merged_df_btc[\"real_return_bitcoin\"] = real_return(merged_df_btc[\"btc_return_pa\"], merged_df_btc[\"Inflation\"])\n",
    "merged_df_btc = merged_df_btc.drop(columns=[\"Inflation\"])\n",
    "merged_df_btc.head()"
   ]
  },
  {
   "cell_type": "code",
   "execution_count": 28,
   "id": "31828f1a",
   "metadata": {},
   "outputs": [
    {
     "data": {
      "text/html": [
       "<div>\n",
       "<style scoped>\n",
       "    .dataframe tbody tr th:only-of-type {\n",
       "        vertical-align: middle;\n",
       "    }\n",
       "\n",
       "    .dataframe tbody tr th {\n",
       "        vertical-align: top;\n",
       "    }\n",
       "\n",
       "    .dataframe thead th {\n",
       "        text-align: right;\n",
       "    }\n",
       "</style>\n",
       "<table border=\"1\" class=\"dataframe\">\n",
       "  <thead>\n",
       "    <tr style=\"text-align: right;\">\n",
       "      <th></th>\n",
       "      <th>Date</th>\n",
       "      <th>Price_Bitcoin</th>\n",
       "      <th>btc_return_mo</th>\n",
       "      <th>btc_return_pa</th>\n",
       "      <th>real_return_bitcoin</th>\n",
       "    </tr>\n",
       "  </thead>\n",
       "  <tbody>\n",
       "    <tr>\n",
       "      <th>64</th>\n",
       "      <td>2019-05</td>\n",
       "      <td>8503.38</td>\n",
       "      <td>0.623442</td>\n",
       "      <td>334.1525</td>\n",
       "      <td>288.248727</td>\n",
       "    </tr>\n",
       "  </tbody>\n",
       "</table>\n",
       "</div>"
      ],
      "text/plain": [
       "       Date Price_Bitcoin btc_return_mo btc_return_pa real_return_bitcoin\n",
       "64  2019-05       8503.38      0.623442      334.1525          288.248727"
      ]
     },
     "execution_count": 28,
     "metadata": {},
     "output_type": "execute_result"
    }
   ],
   "source": [
    "merged_df_btc[merged_df_btc[\"Date\"]==\"2019-05\"]"
   ]
  },
  {
   "cell_type": "code",
   "execution_count": 31,
   "id": "2826f574",
   "metadata": {},
   "outputs": [
    {
     "data": {
      "text/html": [
       "<div>\n",
       "<style scoped>\n",
       "    .dataframe tbody tr th:only-of-type {\n",
       "        vertical-align: middle;\n",
       "    }\n",
       "\n",
       "    .dataframe tbody tr th {\n",
       "        vertical-align: top;\n",
       "    }\n",
       "\n",
       "    .dataframe thead th {\n",
       "        text-align: right;\n",
       "    }\n",
       "</style>\n",
       "<table border=\"1\" class=\"dataframe\">\n",
       "  <thead>\n",
       "    <tr style=\"text-align: right;\">\n",
       "      <th></th>\n",
       "      <th>Date</th>\n",
       "      <th>Price_Bitcoin</th>\n",
       "      <th>btc_return_mo</th>\n",
       "      <th>btc_return_pa</th>\n",
       "      <th>real_return_bitcoin</th>\n",
       "    </tr>\n",
       "  </thead>\n",
       "  <tbody>\n",
       "    <tr>\n",
       "      <th>38</th>\n",
       "      <td>2021-07</td>\n",
       "      <td>41540.22</td>\n",
       "      <td>0.201105</td>\n",
       "      <td>8.015133</td>\n",
       "      <td>6.690781</td>\n",
       "    </tr>\n",
       "  </tbody>\n",
       "</table>\n",
       "</div>"
      ],
      "text/plain": [
       "       Date Price_Bitcoin btc_return_mo btc_return_pa real_return_bitcoin\n",
       "38  2021-07      41540.22      0.201105      8.015133            6.690781"
      ]
     },
     "execution_count": 31,
     "metadata": {},
     "output_type": "execute_result"
    }
   ],
   "source": [
    "merged_df_btc[merged_df_btc[\"Date\"]==\"2021-07\"]"
   ]
  },
  {
   "cell_type": "code",
   "execution_count": 32,
   "id": "d211c02f",
   "metadata": {},
   "outputs": [
    {
     "data": {
      "text/html": [
       "<div>\n",
       "<style scoped>\n",
       "    .dataframe tbody tr th:only-of-type {\n",
       "        vertical-align: middle;\n",
       "    }\n",
       "\n",
       "    .dataframe tbody tr th {\n",
       "        vertical-align: top;\n",
       "    }\n",
       "\n",
       "    .dataframe thead th {\n",
       "        text-align: right;\n",
       "    }\n",
       "</style>\n",
       "<table border=\"1\" class=\"dataframe\">\n",
       "  <thead>\n",
       "    <tr style=\"text-align: right;\">\n",
       "      <th></th>\n",
       "      <th>Date</th>\n",
       "      <th>Price_Bitcoin</th>\n",
       "      <th>btc_return_mo</th>\n",
       "      <th>btc_return_pa</th>\n",
       "      <th>real_return_bitcoin</th>\n",
       "    </tr>\n",
       "  </thead>\n",
       "  <tbody>\n",
       "    <tr>\n",
       "      <th>37</th>\n",
       "      <td>2021-08</td>\n",
       "      <td>47008.53</td>\n",
       "      <td>0.131639</td>\n",
       "      <td>3.410568</td>\n",
       "      <td>2.777465</td>\n",
       "    </tr>\n",
       "  </tbody>\n",
       "</table>\n",
       "</div>"
      ],
      "text/plain": [
       "       Date Price_Bitcoin btc_return_mo btc_return_pa real_return_bitcoin\n",
       "37  2021-08      47008.53      0.131639      3.410568            2.777465"
      ]
     },
     "execution_count": 32,
     "metadata": {},
     "output_type": "execute_result"
    }
   ],
   "source": [
    "merged_df_btc[merged_df_btc[\"Date\"]==\"2021-08\"]"
   ]
  },
  {
   "cell_type": "code",
   "execution_count": 13,
   "id": "7720f093",
   "metadata": {},
   "outputs": [
    {
     "data": {
      "text/html": [
       "<div>\n",
       "<style scoped>\n",
       "    .dataframe tbody tr th:only-of-type {\n",
       "        vertical-align: middle;\n",
       "    }\n",
       "\n",
       "    .dataframe tbody tr th {\n",
       "        vertical-align: top;\n",
       "    }\n",
       "\n",
       "    .dataframe thead th {\n",
       "        text-align: right;\n",
       "    }\n",
       "</style>\n",
       "<table border=\"1\" class=\"dataframe\">\n",
       "  <thead>\n",
       "    <tr style=\"text-align: right;\">\n",
       "      <th></th>\n",
       "      <th>Date</th>\n",
       "      <th>Price_Gold</th>\n",
       "      <th>gold_return_mo</th>\n",
       "      <th>gold_return_pa</th>\n",
       "      <th>real_return_gold</th>\n",
       "    </tr>\n",
       "  </thead>\n",
       "  <tbody>\n",
       "    <tr>\n",
       "      <th>0</th>\n",
       "      <td>2024-09</td>\n",
       "      <td>2634.58</td>\n",
       "      <td>0.052405</td>\n",
       "      <td>0.845842</td>\n",
       "      <td>0.237989</td>\n",
       "    </tr>\n",
       "    <tr>\n",
       "      <th>1</th>\n",
       "      <td>2024-08</td>\n",
       "      <td>2503.39</td>\n",
       "      <td>0.022794</td>\n",
       "      <td>0.31056</td>\n",
       "      <td>-0.135287</td>\n",
       "    </tr>\n",
       "    <tr>\n",
       "      <th>2</th>\n",
       "      <td>2024-07</td>\n",
       "      <td>2447.6</td>\n",
       "      <td>0.051939</td>\n",
       "      <td>0.836068</td>\n",
       "      <td>0.145895</td>\n",
       "    </tr>\n",
       "    <tr>\n",
       "      <th>3</th>\n",
       "      <td>2024-06</td>\n",
       "      <td>2326.75</td>\n",
       "      <td>-0.000249</td>\n",
       "      <td>-0.002986</td>\n",
       "      <td>-0.418346</td>\n",
       "    </tr>\n",
       "    <tr>\n",
       "      <th>4</th>\n",
       "      <td>2024-05</td>\n",
       "      <td>2327.33</td>\n",
       "      <td>0.017968</td>\n",
       "      <td>0.238258</td>\n",
       "      <td>-0.292343</td>\n",
       "    </tr>\n",
       "  </tbody>\n",
       "</table>\n",
       "</div>"
      ],
      "text/plain": [
       "      Date Price_Gold gold_return_mo gold_return_pa real_return_gold\n",
       "0  2024-09    2634.58       0.052405       0.845842         0.237989\n",
       "1  2024-08    2503.39       0.022794        0.31056        -0.135287\n",
       "2  2024-07     2447.6       0.051939       0.836068         0.145895\n",
       "3  2024-06    2326.75      -0.000249      -0.002986        -0.418346\n",
       "4  2024-05    2327.33       0.017968       0.238258        -0.292343"
      ]
     },
     "execution_count": 13,
     "metadata": {},
     "output_type": "execute_result"
    }
   ],
   "source": [
    "merged_df_gold = pd.merge(df_gold, df_inf, on=\"Date\", how=\"inner\")\n",
    "merged_df_gold[\"real_return_gold\"] = real_return(merged_df_gold[\"gold_return_pa\"], merged_df_gold[\"Inflation\"])\n",
    "merged_df_gold = merged_df_gold.drop(columns=[\"Inflation\"])\n",
    "merged_df_gold.head()"
   ]
  },
  {
   "cell_type": "code",
   "execution_count": 14,
   "id": "3c49d936",
   "metadata": {},
   "outputs": [
    {
     "data": {
      "text/html": [
       "<div>\n",
       "<style scoped>\n",
       "    .dataframe tbody tr th:only-of-type {\n",
       "        vertical-align: middle;\n",
       "    }\n",
       "\n",
       "    .dataframe tbody tr th {\n",
       "        vertical-align: top;\n",
       "    }\n",
       "\n",
       "    .dataframe thead th {\n",
       "        text-align: right;\n",
       "    }\n",
       "</style>\n",
       "<table border=\"1\" class=\"dataframe\">\n",
       "  <thead>\n",
       "    <tr style=\"text-align: right;\">\n",
       "      <th></th>\n",
       "      <th>Date</th>\n",
       "      <th>Price_Stock_Ex</th>\n",
       "      <th>stock_return_mo</th>\n",
       "      <th>stock_return_pa</th>\n",
       "      <th>real_return_stockex</th>\n",
       "    </tr>\n",
       "  </thead>\n",
       "  <tbody>\n",
       "    <tr>\n",
       "      <th>0</th>\n",
       "      <td>2024-09</td>\n",
       "      <td>282.62</td>\n",
       "      <td>-0.020619</td>\n",
       "      <td>-0.22121</td>\n",
       "      <td>-0.477672</td>\n",
       "    </tr>\n",
       "    <tr>\n",
       "      <th>1</th>\n",
       "      <td>2024-08</td>\n",
       "      <td>288.57</td>\n",
       "      <td>-0.101756</td>\n",
       "      <td>-0.724111</td>\n",
       "      <td>-0.817967</td>\n",
       "    </tr>\n",
       "    <tr>\n",
       "      <th>2</th>\n",
       "      <td>2024-07</td>\n",
       "      <td>321.26</td>\n",
       "      <td>-0.012055</td>\n",
       "      <td>-0.135442</td>\n",
       "      <td>-0.460427</td>\n",
       "    </tr>\n",
       "    <tr>\n",
       "      <th>3</th>\n",
       "      <td>2024-06</td>\n",
       "      <td>325.18</td>\n",
       "      <td>0.006874</td>\n",
       "      <td>0.085678</td>\n",
       "      <td>-0.366619</td>\n",
       "    </tr>\n",
       "    <tr>\n",
       "      <th>4</th>\n",
       "      <td>2024-05</td>\n",
       "      <td>322.96</td>\n",
       "      <td>0.041538</td>\n",
       "      <td>0.62967</td>\n",
       "      <td>-0.068653</td>\n",
       "    </tr>\n",
       "  </tbody>\n",
       "</table>\n",
       "</div>"
      ],
      "text/plain": [
       "      Date Price_Stock_Ex stock_return_mo stock_return_pa real_return_stockex\n",
       "0  2024-09         282.62       -0.020619        -0.22121           -0.477672\n",
       "1  2024-08         288.57       -0.101756       -0.724111           -0.817967\n",
       "2  2024-07         321.26       -0.012055       -0.135442           -0.460427\n",
       "3  2024-06         325.18        0.006874        0.085678           -0.366619\n",
       "4  2024-05         322.96        0.041538         0.62967           -0.068653"
      ]
     },
     "execution_count": 14,
     "metadata": {},
     "output_type": "execute_result"
    }
   ],
   "source": [
    "merged_df_stockex = pd.merge(df_stock_exchange, df_inf, on=\"Date\", how=\"inner\")\n",
    "merged_df_stockex[\"real_return_stockex\"] = real_return(df_stock_exchange[\"stock_return_pa\"], df_inf[\"Inflation\"])\n",
    "merged_df_stockex = merged_df_stockex.drop(columns=[\"Inflation\"])\n",
    "merged_df_stockex.head()"
   ]
  },
  {
   "cell_type": "code",
   "execution_count": 15,
   "id": "d51397a1",
   "metadata": {},
   "outputs": [
    {
     "data": {
      "text/html": [
       "<div>\n",
       "<style scoped>\n",
       "    .dataframe tbody tr th:only-of-type {\n",
       "        vertical-align: middle;\n",
       "    }\n",
       "\n",
       "    .dataframe tbody tr th {\n",
       "        vertical-align: top;\n",
       "    }\n",
       "\n",
       "    .dataframe thead th {\n",
       "        text-align: right;\n",
       "    }\n",
       "</style>\n",
       "<table border=\"1\" class=\"dataframe\">\n",
       "  <thead>\n",
       "    <tr style=\"text-align: right;\">\n",
       "      <th></th>\n",
       "      <th>Date</th>\n",
       "      <th>Gov_Bond_Yield</th>\n",
       "      <th>bond_return_pa</th>\n",
       "      <th>real_return_bond</th>\n",
       "    </tr>\n",
       "  </thead>\n",
       "  <tbody>\n",
       "    <tr>\n",
       "      <th>0</th>\n",
       "      <td>2024-08</td>\n",
       "      <td>26.715</td>\n",
       "      <td>0.26715</td>\n",
       "      <td>-0.150134</td>\n",
       "    </tr>\n",
       "    <tr>\n",
       "      <th>1</th>\n",
       "      <td>2024-07</td>\n",
       "      <td>26.465</td>\n",
       "      <td>0.26465</td>\n",
       "      <td>-0.165578</td>\n",
       "    </tr>\n",
       "    <tr>\n",
       "      <th>2</th>\n",
       "      <td>2024-06</td>\n",
       "      <td>26.745</td>\n",
       "      <td>0.26745</td>\n",
       "      <td>-0.208981</td>\n",
       "    </tr>\n",
       "    <tr>\n",
       "      <th>3</th>\n",
       "      <td>2024-05</td>\n",
       "      <td>26.330</td>\n",
       "      <td>0.26330</td>\n",
       "      <td>-0.262995</td>\n",
       "    </tr>\n",
       "    <tr>\n",
       "      <th>4</th>\n",
       "      <td>2024-04</td>\n",
       "      <td>26.300</td>\n",
       "      <td>0.26300</td>\n",
       "      <td>-0.278203</td>\n",
       "    </tr>\n",
       "  </tbody>\n",
       "</table>\n",
       "</div>"
      ],
      "text/plain": [
       "      Date  Gov_Bond_Yield  bond_return_pa  real_return_bond\n",
       "0  2024-08          26.715         0.26715         -0.150134\n",
       "1  2024-07          26.465         0.26465         -0.165578\n",
       "2  2024-06          26.745         0.26745         -0.208981\n",
       "3  2024-05          26.330         0.26330         -0.262995\n",
       "4  2024-04          26.300         0.26300         -0.278203"
      ]
     },
     "execution_count": 15,
     "metadata": {},
     "output_type": "execute_result"
    }
   ],
   "source": [
    "merged_df_bonds = pd.merge(df_gov_bonds, df_inf, on=\"Date\", how=\"inner\")\n",
    "merged_df_bonds[\"real_return_bond\"] = real_return(df_gov_bonds[\"bond_return_pa\"], df_inf[\"Inflation\"])\n",
    "merged_df_bonds = merged_df_bonds.drop(columns=[\"Inflation\"])\n",
    "merged_df_bonds.head()"
   ]
  },
  {
   "cell_type": "code",
   "execution_count": 16,
   "id": "c582aa03",
   "metadata": {},
   "outputs": [
    {
     "data": {
      "text/html": [
       "<div>\n",
       "<style scoped>\n",
       "    .dataframe tbody tr th:only-of-type {\n",
       "        vertical-align: middle;\n",
       "    }\n",
       "\n",
       "    .dataframe tbody tr th {\n",
       "        vertical-align: top;\n",
       "    }\n",
       "\n",
       "    .dataframe thead th {\n",
       "        text-align: right;\n",
       "    }\n",
       "</style>\n",
       "<table border=\"1\" class=\"dataframe\">\n",
       "  <thead>\n",
       "    <tr style=\"text-align: right;\">\n",
       "      <th></th>\n",
       "      <th>Date</th>\n",
       "      <th>TP KFE TR</th>\n",
       "      <th>TP KFE TR-1</th>\n",
       "      <th>TP KFE TR-3</th>\n",
       "      <th>hpi_return_mo</th>\n",
       "      <th>hpi_return_pa</th>\n",
       "      <th>real_return_hpi</th>\n",
       "    </tr>\n",
       "  </thead>\n",
       "  <tbody>\n",
       "    <tr>\n",
       "      <th>0</th>\n",
       "      <td>2024-08</td>\n",
       "      <td>146.50</td>\n",
       "      <td>3.658105</td>\n",
       "      <td>34.440672</td>\n",
       "      <td>0.036581</td>\n",
       "      <td>0.539002</td>\n",
       "      <td>0.032195</td>\n",
       "    </tr>\n",
       "    <tr>\n",
       "      <th>1</th>\n",
       "      <td>2024-07</td>\n",
       "      <td>141.33</td>\n",
       "      <td>0.928372</td>\n",
       "      <td>38.735643</td>\n",
       "      <td>0.009284</td>\n",
       "      <td>0.117273</td>\n",
       "      <td>-0.262818</td>\n",
       "    </tr>\n",
       "    <tr>\n",
       "      <th>2</th>\n",
       "      <td>2024-06</td>\n",
       "      <td>140.03</td>\n",
       "      <td>1.544598</td>\n",
       "      <td>46.383023</td>\n",
       "      <td>0.015446</td>\n",
       "      <td>0.201937</td>\n",
       "      <td>-0.249867</td>\n",
       "    </tr>\n",
       "    <tr>\n",
       "      <th>3</th>\n",
       "      <td>2024-05</td>\n",
       "      <td>137.90</td>\n",
       "      <td>3.918613</td>\n",
       "      <td>51.338894</td>\n",
       "      <td>0.039186</td>\n",
       "      <td>0.586062</td>\n",
       "      <td>-0.074697</td>\n",
       "    </tr>\n",
       "    <tr>\n",
       "      <th>4</th>\n",
       "      <td>2024-04</td>\n",
       "      <td>132.70</td>\n",
       "      <td>0.920222</td>\n",
       "      <td>51.570531</td>\n",
       "      <td>0.009202</td>\n",
       "      <td>0.116191</td>\n",
       "      <td>-0.362104</td>\n",
       "    </tr>\n",
       "  </tbody>\n",
       "</table>\n",
       "</div>"
      ],
      "text/plain": [
       "      Date  TP KFE TR  TP KFE TR-1  TP KFE TR-3  hpi_return_mo  hpi_return_pa  \\\n",
       "0  2024-08     146.50     3.658105    34.440672       0.036581       0.539002   \n",
       "1  2024-07     141.33     0.928372    38.735643       0.009284       0.117273   \n",
       "2  2024-06     140.03     1.544598    46.383023       0.015446       0.201937   \n",
       "3  2024-05     137.90     3.918613    51.338894       0.039186       0.586062   \n",
       "4  2024-04     132.70     0.920222    51.570531       0.009202       0.116191   \n",
       "\n",
       "   real_return_hpi  \n",
       "0         0.032195  \n",
       "1        -0.262818  \n",
       "2        -0.249867  \n",
       "3        -0.074697  \n",
       "4        -0.362104  "
      ]
     },
     "execution_count": 16,
     "metadata": {},
     "output_type": "execute_result"
    }
   ],
   "source": [
    "merged_df_hpi = pd.merge(df_hpi, df_inf, on=\"Date\", how=\"inner\")\n",
    "merged_df_hpi[\"real_return_hpi\"] = real_return(df_hpi[\"hpi_return_pa\"], df_inf[\"Inflation\"])\n",
    "merged_df_hpi = merged_df_hpi.drop(columns=[\"Inflation\"])\n",
    "merged_df_hpi.head()"
   ]
  },
  {
   "cell_type": "markdown",
   "id": "1e890ba0",
   "metadata": {},
   "source": [
    "# Master_Table:\n"
   ]
  },
  {
   "cell_type": "code",
   "execution_count": 17,
   "id": "15e4af75",
   "metadata": {},
   "outputs": [],
   "source": [
    "merged_all = pd.merge(merged_df_btc, merged_df_gold, on=\"Date\", how=\"inner\")\n",
    "merged_all = pd.merge(merged_all, merged_df_stockex, on=\"Date\", how=\"inner\")\n",
    "merged_all = pd.merge(merged_all, merged_df_bonds, on=\"Date\", how=\"inner\")\n",
    "merged_all = pd.merge(merged_all, merged_df_hpi, on=\"Date\", how=\"inner\")\n",
    "merged_all.head()\n",
    "merged_all.to_csv('../data/processed/master_table.csv', index=False)"
   ]
  },
  {
   "cell_type": "markdown",
   "id": "3a671186",
   "metadata": {},
   "source": [
    "# Database:"
   ]
  },
  {
   "cell_type": "code",
   "execution_count": 18,
   "id": "371ce3e9",
   "metadata": {},
   "outputs": [],
   "source": [
    "import sqlite3"
   ]
  },
  {
   "cell_type": "code",
   "execution_count": 19,
   "id": "502753fd",
   "metadata": {},
   "outputs": [],
   "source": [
    "conn = sqlite3.connect('database_final.db')  "
   ]
  },
  {
   "cell_type": "code",
   "execution_count": 20,
   "id": "f1c85d5c",
   "metadata": {},
   "outputs": [
    {
     "data": {
      "text/plain": [
       "81"
      ]
     },
     "execution_count": 20,
     "metadata": {},
     "output_type": "execute_result"
    }
   ],
   "source": [
    "merged_df_stockex.to_sql('STOCKEX', conn, if_exists='replace', index=False)\n",
    "merged_df_btc.to_sql('BTC', conn, if_exists='replace', index=False)\n",
    "merged_df_gold.to_sql('GOLD', conn, if_exists='replace', index=False)\n",
    "merged_df_bonds.to_sql('BOND', conn, if_exists='replace', index=False)\n",
    "merged_df_hpi.to_sql(\"HPI\",conn, if_exists='replace', index=False)\n",
    "df_inf.to_sql(\"INF\",conn, if_exists='replace', index=False)"
   ]
  },
  {
   "cell_type": "code",
   "execution_count": 21,
   "id": "3db42a6f",
   "metadata": {},
   "outputs": [
    {
     "data": {
      "text/html": [
       "<div>\n",
       "<style scoped>\n",
       "    .dataframe tbody tr th:only-of-type {\n",
       "        vertical-align: middle;\n",
       "    }\n",
       "\n",
       "    .dataframe tbody tr th {\n",
       "        vertical-align: top;\n",
       "    }\n",
       "\n",
       "    .dataframe thead th {\n",
       "        text-align: right;\n",
       "    }\n",
       "</style>\n",
       "<table border=\"1\" class=\"dataframe\">\n",
       "  <thead>\n",
       "    <tr style=\"text-align: right;\">\n",
       "      <th></th>\n",
       "      <th>Date</th>\n",
       "      <th>Price_Stock_Ex</th>\n",
       "      <th>stock_return_mo</th>\n",
       "      <th>stock_return_pa</th>\n",
       "      <th>real_return_stockex</th>\n",
       "    </tr>\n",
       "  </thead>\n",
       "  <tbody>\n",
       "    <tr>\n",
       "      <th>0</th>\n",
       "      <td>2024-09</td>\n",
       "      <td>282.62</td>\n",
       "      <td>-0.020619</td>\n",
       "      <td>-0.221210</td>\n",
       "      <td>-0.477672</td>\n",
       "    </tr>\n",
       "    <tr>\n",
       "      <th>1</th>\n",
       "      <td>2024-08</td>\n",
       "      <td>288.57</td>\n",
       "      <td>-0.101756</td>\n",
       "      <td>-0.724111</td>\n",
       "      <td>-0.817967</td>\n",
       "    </tr>\n",
       "    <tr>\n",
       "      <th>2</th>\n",
       "      <td>2024-07</td>\n",
       "      <td>321.26</td>\n",
       "      <td>-0.012055</td>\n",
       "      <td>-0.135442</td>\n",
       "      <td>-0.460427</td>\n",
       "    </tr>\n",
       "    <tr>\n",
       "      <th>3</th>\n",
       "      <td>2024-06</td>\n",
       "      <td>325.18</td>\n",
       "      <td>0.006874</td>\n",
       "      <td>0.085678</td>\n",
       "      <td>-0.366619</td>\n",
       "    </tr>\n",
       "    <tr>\n",
       "      <th>4</th>\n",
       "      <td>2024-05</td>\n",
       "      <td>322.96</td>\n",
       "      <td>0.041538</td>\n",
       "      <td>0.629670</td>\n",
       "      <td>-0.068653</td>\n",
       "    </tr>\n",
       "    <tr>\n",
       "      <th>...</th>\n",
       "      <td>...</td>\n",
       "      <td>...</td>\n",
       "      <td>...</td>\n",
       "      <td>...</td>\n",
       "      <td>...</td>\n",
       "    </tr>\n",
       "    <tr>\n",
       "      <th>76</th>\n",
       "      <td>2018-05</td>\n",
       "      <td>221.65</td>\n",
       "      <td>-0.134416</td>\n",
       "      <td>-0.823108</td>\n",
       "      <td>-0.842958</td>\n",
       "    </tr>\n",
       "    <tr>\n",
       "      <th>77</th>\n",
       "      <td>2018-04</td>\n",
       "      <td>256.07</td>\n",
       "      <td>-0.118793</td>\n",
       "      <td>-0.780752</td>\n",
       "      <td>-0.804661</td>\n",
       "    </tr>\n",
       "    <tr>\n",
       "      <th>78</th>\n",
       "      <td>2018-03</td>\n",
       "      <td>290.59</td>\n",
       "      <td>-0.072220</td>\n",
       "      <td>-0.593238</td>\n",
       "      <td>-0.634994</td>\n",
       "    </tr>\n",
       "    <tr>\n",
       "      <th>79</th>\n",
       "      <td>2018-02</td>\n",
       "      <td>313.21</td>\n",
       "      <td>-0.014753</td>\n",
       "      <td>-0.163355</td>\n",
       "      <td>-0.252595</td>\n",
       "    </tr>\n",
       "    <tr>\n",
       "      <th>80</th>\n",
       "      <td>2018-01</td>\n",
       "      <td>317.9</td>\n",
       "      <td>NaN</td>\n",
       "      <td>NaN</td>\n",
       "      <td>NaN</td>\n",
       "    </tr>\n",
       "  </tbody>\n",
       "</table>\n",
       "<p>81 rows × 5 columns</p>\n",
       "</div>"
      ],
      "text/plain": [
       "       Date Price_Stock_Ex  stock_return_mo  stock_return_pa  \\\n",
       "0   2024-09         282.62        -0.020619        -0.221210   \n",
       "1   2024-08         288.57        -0.101756        -0.724111   \n",
       "2   2024-07         321.26        -0.012055        -0.135442   \n",
       "3   2024-06         325.18         0.006874         0.085678   \n",
       "4   2024-05         322.96         0.041538         0.629670   \n",
       "..      ...            ...              ...              ...   \n",
       "76  2018-05         221.65        -0.134416        -0.823108   \n",
       "77  2018-04         256.07        -0.118793        -0.780752   \n",
       "78  2018-03         290.59        -0.072220        -0.593238   \n",
       "79  2018-02         313.21        -0.014753        -0.163355   \n",
       "80  2018-01          317.9              NaN              NaN   \n",
       "\n",
       "    real_return_stockex  \n",
       "0             -0.477672  \n",
       "1             -0.817967  \n",
       "2             -0.460427  \n",
       "3             -0.366619  \n",
       "4             -0.068653  \n",
       "..                  ...  \n",
       "76            -0.842958  \n",
       "77            -0.804661  \n",
       "78            -0.634994  \n",
       "79            -0.252595  \n",
       "80                  NaN  \n",
       "\n",
       "[81 rows x 5 columns]"
      ]
     },
     "execution_count": 21,
     "metadata": {},
     "output_type": "execute_result"
    }
   ],
   "source": [
    "query = \"SELECT * FROM STOCKEX\"\n",
    "TRIAL = pd.read_sql_query(query, conn)\n",
    "TRIAL"
   ]
  },
  {
   "cell_type": "code",
   "execution_count": 22,
   "id": "e9e73e3d",
   "metadata": {},
   "outputs": [],
   "source": [
    "conn.close()"
   ]
  },
  {
   "cell_type": "code",
   "execution_count": 27,
   "id": "b452e4e3",
   "metadata": {},
   "outputs": [
    {
     "data": {
      "text/html": [
       "<div>\n",
       "<style scoped>\n",
       "    .dataframe tbody tr th:only-of-type {\n",
       "        vertical-align: middle;\n",
       "    }\n",
       "\n",
       "    .dataframe tbody tr th {\n",
       "        vertical-align: top;\n",
       "    }\n",
       "\n",
       "    .dataframe thead th {\n",
       "        text-align: right;\n",
       "    }\n",
       "</style>\n",
       "<table border=\"1\" class=\"dataframe\">\n",
       "  <thead>\n",
       "    <tr style=\"text-align: right;\">\n",
       "      <th></th>\n",
       "      <th>Date</th>\n",
       "      <th>Inflation</th>\n",
       "    </tr>\n",
       "  </thead>\n",
       "  <tbody>\n",
       "    <tr>\n",
       "      <th>60</th>\n",
       "      <td>2019-09</td>\n",
       "      <td>0.0754</td>\n",
       "    </tr>\n",
       "  </tbody>\n",
       "</table>\n",
       "</div>"
      ],
      "text/plain": [
       "       Date  Inflation\n",
       "60  2019-09     0.0754"
      ]
     },
     "execution_count": 27,
     "metadata": {},
     "output_type": "execute_result"
    }
   ],
   "source": [
    "df_inf[df_inf[\"Date\"]==\"2019-09\"]"
   ]
  },
  {
   "cell_type": "code",
   "execution_count": null,
   "id": "273824f9",
   "metadata": {},
   "outputs": [],
   "source": []
  }
 ],
 "metadata": {
  "kernelspec": {
   "display_name": "Python 3 (ipykernel)",
   "language": "python",
   "name": "python3"
  },
  "language_info": {
   "codemirror_mode": {
    "name": "ipython",
    "version": 3
   },
   "file_extension": ".py",
   "mimetype": "text/x-python",
   "name": "python",
   "nbconvert_exporter": "python",
   "pygments_lexer": "ipython3",
   "version": "3.10.9"
  }
 },
 "nbformat": 4,
 "nbformat_minor": 5
}
